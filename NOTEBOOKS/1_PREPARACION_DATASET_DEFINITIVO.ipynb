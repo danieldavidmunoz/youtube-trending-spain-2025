{
 "cells": [
  {
   "cell_type": "markdown",
   "metadata": {},
   "source": [
    "# 1. PREPRARACION DEL DATASET\n",
    "\n",
    " 1.1 Carga de datos y exploraciones previas al EDA\n",
    "\n",
    " 1.2. Preparación y limpieza de Datos\n",
    "\n",
    " 1.2.1 Transformación de Datos\n",
    "\n",
    " 1.2.2 Filtración de duplicados\n",
    "\n",
    " 1.2.3 Verificación de unicidad en los valores del dataset \n",
    " \n",
    " 1.2.4 Selección y Depuración de Variables No Relevantes\n",
    "\n",
    " 1.3 Creación de embeddings\n",
    "\n",
    " 1.4 Creación del dataset con embeddings\n",
    "\n",
    "\n",
    " \n",
    "\n"
   ]
  },
  {
   "cell_type": "code",
   "execution_count": 32,
   "metadata": {},
   "outputs": [],
   "source": [
    "import pandas as pd\n",
    "import glob\n",
    "import os\n",
    "import numpy  as np\n",
    "import os\n",
    "import time    \n",
    "import matplotlib.pyplot as plt\n",
    "import seaborn as sns\n",
    "from sentence_transformers import SentenceTransformer\n",
    "from sklearn.preprocessing import StandardScaler  # (opcional)\n",
    "import matplotlib.pyplot as plt\n",
    "import umap\n",
    "from umap.umap_ import UMAP           # <- importante: umap-learn\n",
    "import hdbscan"
   ]
  },
  {
   "cell_type": "markdown",
   "metadata": {},
   "source": [
    "## 1.1 Carga de datos y exploraciones previas al EDA"
   ]
  },
  {
   "cell_type": "code",
   "execution_count": 33,
   "metadata": {},
   "outputs": [
    {
     "name": "stdout",
     "output_type": "stream",
     "text": [
      "Archivos NOPOPULAR: 60\n",
      "Archivos MOSTPOPULAR: 60\n",
      "(29398, 34)\n",
      "      video_id                                              title  \\\n",
      "0  VNqRXbyw6x0        ¿Cómo CURAR una GASTRITIS? | DrPoloGuerrero   \n",
      "1  3r3GAwGndCI  Lamine Yamal vs Como 1907 | 2 Goals (10/08/202...   \n",
      "2  a6mN0flleb8  Cómo Chile reinventó el Leopard 1v y así lo hi...   \n",
      "3  q9t5tF14vgI  COMO se HACE el CONTRACHAPADO de MADERA |ASÍ s...   \n",
      "4  Oy7U8VGmdzQ  ¡SHOCK AÉREO GLOBAL! : ¿Cómo Rusia derriba un ...   \n",
      "\n",
      "                                         description          published_at  \\\n",
      "0  ANTES DE TRATAR UNA GASTRITIS, NECESITAMOS SAB...  2025-08-11T01:30:22Z   \n",
      "1  Lamine Yamal vs Como 1907 (10/08/2025)\\n\\n🔔 Tu...  2025-08-10T22:55:33Z   \n",
      "2  Cómo Chile reinventó el Leopard 1 y lo convirt...  2025-08-10T22:00:03Z   \n",
      "3  🔰Descubre COMO se HACE el CONTRACHAPADO de MAD...  2025-08-10T16:45:04Z   \n",
      "4  En este video abordamos la alarmante situación...  2025-08-10T14:08:00Z   \n",
      "\n",
      "  duration_minutes definition licensed_content has_caption  category_id  \\\n",
      "0        16.566667         hd             True       False         27.0   \n",
      "1        11.233333         hd             True       False         17.0   \n",
      "2              7.2         hd             True       False         25.0   \n",
      "3         8.666667         hd             True       False         28.0   \n",
      "4        18.866667         hd             True       False         22.0   \n",
      "\n",
      "     views  ...  channel_views              channel_created channel_age_days  \\\n",
      "0  33665.0  ...     1724967670  2020-08-03T05:02:57.312998Z           1837.0   \n",
      "1  19332.0  ...       66214214  2021-03-25T18:41:20.207909Z           1602.0   \n",
      "2  38356.0  ...       35804779         2013-06-17T00:40:33Z           4441.0   \n",
      "3  25322.0  ...      333809715         2014-03-04T14:23:34Z           4180.0   \n",
      "4  13044.0  ...         705212  2025-07-17T13:10:38.916062Z             27.0   \n",
      "\n",
      "   frecuencia_videos  views_rate_video  mostpopular  \\\n",
      "0           0.815460      1.151514e+06            0   \n",
      "1           0.129213      3.198754e+05            0   \n",
      "2           0.163477      4.931788e+04            0   \n",
      "3           0.050478      1.582037e+06            0   \n",
      "4           0.962963      2.712354e+04            0   \n",
      "\n",
      "                   source_file  favorites  likes_per_view comments_per_view  \n",
      "0  250814_no_populares_96h.csv        NaN             NaN               NaN  \n",
      "1  250814_no_populares_96h.csv        NaN             NaN               NaN  \n",
      "2  250814_no_populares_96h.csv        NaN             NaN               NaN  \n",
      "3  250814_no_populares_96h.csv        NaN             NaN               NaN  \n",
      "4  250814_no_populares_96h.csv        NaN             NaN               NaN  \n",
      "\n",
      "[5 rows x 34 columns]\n"
     ]
    }
   ],
   "source": [
    "ruta_low  = \"../DATA/RAW/DATASET/NOPOPULAR_2\"\n",
    "ruta_mpop = \"../DATA/RAW/DATASET/MOST_POPULAR_3\"\n",
    "\n",
    "archivos_low  = glob.glob(os.path.join(ruta_low,  \"*.csv\"))\n",
    "archivos_mpop = glob.glob(os.path.join(ruta_mpop, \"*.csv\"))\n",
    "\n",
    "print(f\"Archivos NOPOPULAR: {len(archivos_low)}\")\n",
    "print(f\"Archivos MOSTPOPULAR: {len(archivos_mpop)}\")\n",
    "\n",
    "def leer_flexible(path, label):\n",
    "    # 1) intenta con ';'\n",
    "    try:\n",
    "        df = pd.read_csv(\n",
    "            path,\n",
    "            sep=\";\",\n",
    "            engine=\"python\",\n",
    "            encoding=\"utf-8\",\n",
    "            on_bad_lines=\"skip\"\n",
    "        )\n",
    "    except Exception:\n",
    "        # 2) intenta con ','\n",
    "        df = pd.read_csv(\n",
    "            path,\n",
    "            sep=\",\",\n",
    "            engine=\"python\",\n",
    "            encoding=\"utf-8\",\n",
    "            on_bad_lines=\"skip\"\n",
    "        )\n",
    "\n",
    "    # Si quedó todo en una sola columna (delimitador incorrecto), intenta sniff automático\n",
    "    if df.shape[1] == 1:\n",
    "        df = pd.read_csv(\n",
    "            path,\n",
    "            sep=None,              # sniff del separador\n",
    "            engine=\"python\",\n",
    "            encoding=\"utf-8\",\n",
    "            on_bad_lines=\"skip\"\n",
    "        )\n",
    "\n",
    "    df = df.assign(mostpopular=label, source_file=os.path.basename(path))\n",
    "    return df\n",
    "\n",
    "def concat_seguro(lista_paths, label):\n",
    "    if not lista_paths:\n",
    "        # Devuelve DataFrame vacío con la columna mostpopular para no romper concat\n",
    "        return pd.DataFrame(columns=[\"mostpopular\", \"source_file\"])\n",
    "    frames = []\n",
    "    for f in lista_paths:\n",
    "        try:\n",
    "            frames.append(leer_flexible(f, label))\n",
    "        except Exception as e:\n",
    "            print(f\"[WARN] No se pudo leer {f}: {e}\")\n",
    "    if frames:\n",
    "        return pd.concat(frames, ignore_index=True)\n",
    "    # Si ninguno se pudo leer, devolver DF vacío coherente\n",
    "    return pd.DataFrame(columns=[\"mostpopular\", \"source_file\"])\n",
    "\n",
    "df_low  = concat_seguro(archivos_low,  label=0)\n",
    "df_mpop = concat_seguro(archivos_mpop, label=1)\n",
    "\n",
    "# Unificar\n",
    "df = pd.concat([df_low, df_mpop], ignore_index=True)\n",
    "\n",
    "print(df.shape)\n",
    "print(df.head())"
   ]
  },
  {
   "cell_type": "code",
   "execution_count": 34,
   "metadata": {},
   "outputs": [
    {
     "name": "stdout",
     "output_type": "stream",
     "text": [
      "<class 'pandas.core.frame.DataFrame'>\n",
      "RangeIndex: 29398 entries, 0 to 29397\n",
      "Data columns (total 34 columns):\n",
      " #   Column                  Non-Null Count  Dtype  \n",
      "---  ------                  --------------  -----  \n",
      " 0   video_id                29397 non-null  object \n",
      " 1   title                   29398 non-null  object \n",
      " 2   description             25433 non-null  object \n",
      " 3   published_at            29397 non-null  object \n",
      " 4   duration_minutes        29397 non-null  object \n",
      " 5   definition              29397 non-null  object \n",
      " 6   licensed_content        29397 non-null  object \n",
      " 7   has_caption             29396 non-null  object \n",
      " 8   category_id             29396 non-null  float64\n",
      " 9   views                   29396 non-null  float64\n",
      " 10  likes                   29396 non-null  float64\n",
      " 11  comments                29395 non-null  float64\n",
      " 12  tags                    19244 non-null  object \n",
      " 13  tags_count              29396 non-null  float64\n",
      " 14  views_per_day           29396 non-null  float64\n",
      " 15  video_age_days          29396 non-null  float64\n",
      " 16  engagement_rate         29196 non-null  float64\n",
      " 17  efficiency              29196 non-null  float64\n",
      " 18  engagement_subscribers  29196 non-null  float64\n",
      " 19  subscriber_count        29396 non-null  object \n",
      " 20  channel_id              29396 non-null  object \n",
      " 21  channel_title           29396 non-null  object \n",
      " 22  channel_description     26346 non-null  object \n",
      " 23  channel_video_count     29395 non-null  float64\n",
      " 24  channel_views           29395 non-null  object \n",
      " 25  channel_created         29395 non-null  object \n",
      " 26  channel_age_days        29395 non-null  float64\n",
      " 27  frecuencia_videos       29195 non-null  float64\n",
      " 28  views_rate_video        29194 non-null  float64\n",
      " 29  mostpopular             29398 non-null  int64  \n",
      " 30  source_file             29398 non-null  object \n",
      " 31  favorites               200 non-null    float64\n",
      " 32  likes_per_view          200 non-null    float64\n",
      " 33  comments_per_view       200 non-null    float64\n",
      "dtypes: float64(17), int64(1), object(16)\n",
      "memory usage: 7.6+ MB\n"
     ]
    }
   ],
   "source": [
    "df.info()"
   ]
  },
  {
   "cell_type": "markdown",
   "metadata": {},
   "source": [
    "Primeras exploraciones y preaparacion inicial del dataset"
   ]
  },
  {
   "cell_type": "code",
   "execution_count": 35,
   "metadata": {},
   "outputs": [
    {
     "name": "stdout",
     "output_type": "stream",
     "text": [
      "Número de vídeos trending al día 3: 830\n"
     ]
    }
   ],
   "source": [
    "\n",
    "count_3d = df[(df[\"mostpopular\"] == 1) & (df[\"video_age_days\"] == 3)].shape[0]\n",
    "print(\"Número de vídeos trending al día 3:\", count_3d)"
   ]
  },
  {
   "cell_type": "markdown",
   "metadata": {},
   "source": [
    "Sobre la selección de los vídeos en el 3er día"
   ]
  },
  {
   "cell_type": "code",
   "execution_count": 36,
   "metadata": {},
   "outputs": [
    {
     "name": "stdout",
     "output_type": "stream",
     "text": [
      "Distribución de entrada a trending por franja (en %):\n"
     ]
    }
   ],
   "source": [
    "# Definir función para asignar franja\n",
    "def asignar_franja(dias):\n",
    "    if dias < 1:\n",
    "        return \"0-24h\"\n",
    "    elif dias < 2:\n",
    "        return \"24-48h\"\n",
    "    elif dias < 3:\n",
    "        return \"48-72h\"\n",
    "    elif dias < 4:\n",
    "        return \"72-96h\"\n",
    "    else:\n",
    "        return \"96h+\"\n",
    "\n",
    "# Crear columna de franja\n",
    "df[\"franja_trending\"] = df[\"video_age_days\"].apply(asignar_franja)\n",
    "\n",
    "# Filtrar solo vídeos mostpopular\n",
    "df_mp = df[df[\"mostpopular\"] == 1]\n",
    "\n",
    "# Contar y calcular porcentajes\n",
    "dist = df_mp[\"franja_trending\"].value_counts(normalize=True).sort_index() * 100\n",
    "\n",
    "print(\"Distribución de entrada a trending por franja (en %):\")"
   ]
  },
  {
   "cell_type": "code",
   "execution_count": 37,
   "metadata": {},
   "outputs": [
    {
     "data": {
      "text/plain": [
       "franja_trending\n",
       "0-24h     37.934363\n",
       "24-48h    28.281853\n",
       "48-72h    11.600562\n",
       "72-96h     7.283257\n",
       "96h+      14.899965\n",
       "Name: proportion, dtype: float64"
      ]
     },
     "execution_count": 37,
     "metadata": {},
     "output_type": "execute_result"
    }
   ],
   "source": [
    "dist"
   ]
  },
  {
   "cell_type": "code",
   "execution_count": 38,
   "metadata": {},
   "outputs": [
    {
     "name": "stdout",
     "output_type": "stream",
     "text": [
      "mostpopular              0          1\n",
      "franja_trending                      \n",
      "0-24h             0.005555  37.934363\n",
      "24-48h            0.000000  28.281853\n",
      "48-72h            0.000000  11.600562\n",
      "72-96h           99.983335   7.283257\n",
      "96h+              0.011110  14.899965\n"
     ]
    }
   ],
   "source": [
    "tabla = pd.crosstab(df[\"franja_trending\"], df[\"mostpopular\"], normalize=\"columns\") * 100\n",
    "print(tabla)"
   ]
  },
  {
   "cell_type": "markdown",
   "metadata": {},
   "source": [
    "La selección de la ventana de tres días como criterio de análisis se justifica en términos metodológicos. En primer lugar, se observa que los vídeos no incluidos en la sección *most popular* se concentran casi en su totalidad en la franja 72–96 horas tras su publicación. Por otra parte, los vídeos que sí alcanzan la categoría de *most popular* se distribuyen de forma más amplia a lo largo de las primeras 96 horas, pero mantienen una fracción representativa en la franja de tres días (≈8,7%). Este punto de intersección asegura la presencia de ambos grupos (trending y no trending) bajo una misma condición temporal, reduciendo sesgos asociados a la edad del vídeo. En consecuencia, el día tres constituye un horizonte razonable para evaluar el potencial de un vídeo de convertirse en trending, al equilibrar representatividad y homogeneidad en la muestra.\n",
    "\n",
    "La construcción del dataset se realizó a partir de dos estrategias complementarias de muestreo. Por un lado, se recopilaron de forma diaria, durante un periodo de tres meses, los vídeos incluidos en la sección *most popular* de YouTube España. Por otro lado, se capturaron de manera paralela, a lo largo de dos meses, muestras diarias de vídeos publicados en los últimos tres días con menos de 50.000 visualizaciones. Con el fin de asegurar la coherencia metodológica, se seleccionaron únicamente los vídeos correspondientes al tercer día de publicación dentro de este segundo conjunto. Esta decisión responde al interés de generar una imagen representativa de la dinámica de consumo audiovisual en un momento específico, evitando el sesgo de comparar vídeos en fases temporales distintas de su ciclo de vida. De este modo, el dataset resultante permite contrastar de manera homogénea el comportamiento de vídeos trending frente a no trending bajo condiciones comparables."
   ]
  },
  {
   "cell_type": "code",
   "execution_count": 39,
   "metadata": {},
   "outputs": [
    {
     "data": {
      "text/plain": [
       "franja_trending\n",
       "0-24h     14.708484\n",
       "24-48h    10.963331\n",
       "48-72h     4.496905\n",
       "72-96h    64.048575\n",
       "96h+       5.782706\n",
       "Name: proportion, dtype: float64"
      ]
     },
     "execution_count": 39,
     "metadata": {},
     "output_type": "execute_result"
    }
   ],
   "source": [
    "df[\"franja_trending\"].value_counts(normalize=True).sort_index() * 100"
   ]
  },
  {
   "cell_type": "code",
   "execution_count": 40,
   "metadata": {},
   "outputs": [],
   "source": [
    "df_1 = df[df[\"video_age_days\"] == 3]"
   ]
  },
  {
   "cell_type": "code",
   "execution_count": 41,
   "metadata": {},
   "outputs": [
    {
     "name": "stdout",
     "output_type": "stream",
     "text": [
      "<class 'pandas.core.frame.DataFrame'>\n",
      "Index: 18829 entries, 0 to 29320\n",
      "Data columns (total 35 columns):\n",
      " #   Column                  Non-Null Count  Dtype  \n",
      "---  ------                  --------------  -----  \n",
      " 0   video_id                18829 non-null  object \n",
      " 1   title                   18829 non-null  object \n",
      " 2   description             15125 non-null  object \n",
      " 3   published_at            18829 non-null  object \n",
      " 4   duration_minutes        18829 non-null  object \n",
      " 5   definition              18829 non-null  object \n",
      " 6   licensed_content        18829 non-null  object \n",
      " 7   has_caption             18829 non-null  object \n",
      " 8   category_id             18829 non-null  float64\n",
      " 9   views                   18829 non-null  float64\n",
      " 10  likes                   18829 non-null  float64\n",
      " 11  comments                18829 non-null  float64\n",
      " 12  tags                    10527 non-null  object \n",
      " 13  tags_count              18829 non-null  float64\n",
      " 14  views_per_day           18829 non-null  float64\n",
      " 15  video_age_days          18829 non-null  float64\n",
      " 16  engagement_rate         18822 non-null  float64\n",
      " 17  efficiency              18822 non-null  float64\n",
      " 18  engagement_subscribers  18822 non-null  float64\n",
      " 19  subscriber_count        18829 non-null  object \n",
      " 20  channel_id              18829 non-null  object \n",
      " 21  channel_title           18829 non-null  object \n",
      " 22  channel_description     17088 non-null  object \n",
      " 23  channel_video_count     18828 non-null  float64\n",
      " 24  channel_views           18828 non-null  object \n",
      " 25  channel_created         18828 non-null  object \n",
      " 26  channel_age_days        18828 non-null  float64\n",
      " 27  frecuencia_videos       18821 non-null  float64\n",
      " 28  views_rate_video        18821 non-null  float64\n",
      " 29  mostpopular             18829 non-null  int64  \n",
      " 30  source_file             18829 non-null  object \n",
      " 31  favorites               7 non-null      float64\n",
      " 32  likes_per_view          7 non-null      float64\n",
      " 33  comments_per_view       7 non-null      float64\n",
      " 34  franja_trending         18829 non-null  object \n",
      "dtypes: float64(17), int64(1), object(17)\n",
      "memory usage: 5.2+ MB\n"
     ]
    }
   ],
   "source": [
    "df_1.info()"
   ]
  },
  {
   "cell_type": "code",
   "execution_count": 42,
   "metadata": {},
   "outputs": [
    {
     "data": {
      "text/plain": [
       "mostpopular\n",
       "0    95.591906\n",
       "1     4.408094\n",
       "Name: proportion, dtype: float64"
      ]
     },
     "execution_count": 42,
     "metadata": {},
     "output_type": "execute_result"
    }
   ],
   "source": [
    "df_1['mostpopular'].value_counts(True)*100"
   ]
  },
  {
   "cell_type": "code",
   "execution_count": 43,
   "metadata": {},
   "outputs": [
    {
     "name": "stderr",
     "output_type": "stream",
     "text": [
      "/var/folders/l5/hswxnhp96655ttqlpbgkrrfw0000gn/T/ipykernel_26275/1564616768.py:1: SettingWithCopyWarning: \n",
      "A value is trying to be set on a copy of a slice from a DataFrame.\n",
      "Try using .loc[row_indexer,col_indexer] = value instead\n",
      "\n",
      "See the caveats in the documentation: https://pandas.pydata.org/pandas-docs/stable/user_guide/indexing.html#returning-a-view-versus-a-copy\n",
      "  df_1['published_at'] = pd.to_datetime(df_1['published_at'])\n",
      "/var/folders/l5/hswxnhp96655ttqlpbgkrrfw0000gn/T/ipykernel_26275/1564616768.py:4: SettingWithCopyWarning: \n",
      "A value is trying to be set on a copy of a slice from a DataFrame.\n",
      "Try using .loc[row_indexer,col_indexer] = value instead\n",
      "\n",
      "See the caveats in the documentation: https://pandas.pydata.org/pandas-docs/stable/user_guide/indexing.html#returning-a-view-versus-a-copy\n",
      "  df_1['published_date'] = df_1['published_at'].dt.date\n"
     ]
    },
    {
     "data": {
      "text/plain": [
       "<Figure size 1200x1000 with 0 Axes>"
      ]
     },
     "metadata": {},
     "output_type": "display_data"
    },
    {
     "data": {
      "image/png": "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",
      "text/plain": [
       "<Figure size 640x480 with 1 Axes>"
      ]
     },
     "metadata": {},
     "output_type": "display_data"
    }
   ],
   "source": [
    "df_1['published_at'] = pd.to_datetime(df_1['published_at'])\n",
    "\n",
    "# Crear una columna de fecha solo (sin hora) para agrupar\n",
    "df_1['published_date'] = df_1['published_at'].dt.date\n",
    "tabla_frecuencia = df_1.groupby(['published_date', 'mostpopular']).size().unstack(fill_value=0)\n",
    "\n",
    "# Graficar barras apiladas\n",
    "plt.figure(figsize=(12,10))\n",
    "tabla_frecuencia.plot(kind='bar', stacked=True, color=['#4C72B0','#55A868'], edgecolor='black')\n",
    "plt.title('Número de videos publicados por fecha y categoría mostPopular')\n",
    "plt.xlabel('Fecha de publicación')\n",
    "plt.ylabel('Número de videos')\n",
    "plt.xticks(rotation=45)\n",
    "plt.tight_layout()"
   ]
  },
  {
   "cell_type": "code",
   "execution_count": 44,
   "metadata": {},
   "outputs": [
    {
     "data": {
      "image/png": "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",
      "text/plain": [
       "<Figure size 800x500 with 1 Axes>"
      ]
     },
     "metadata": {},
     "output_type": "display_data"
    }
   ],
   "source": [
    "plt.figure(figsize=(8,5))\n",
    "sns.histplot(data=df_1, x=df_1['views'], hue=\"mostpopular\", bins=50, log_scale=True, \n",
    "                 palette=\"coolwarm\", alpha=0.6)\n",
    "plt.title(f\"Distribución de views: mostpopular vs. no-mostpopular\")\n",
    "plt.xlabel(\"views\")\n",
    "plt.ylabel(\"Frecuencia\")\n",
    "plt.legend(title=\"mostpopular\", labels=[\"No\", \"Sí\"])\n",
    "plt.show()"
   ]
  },
  {
   "cell_type": "markdown",
   "metadata": {},
   "source": [
    "## 1.2. Preparación y limpieza de Datos"
   ]
  },
  {
   "cell_type": "code",
   "execution_count": 45,
   "metadata": {},
   "outputs": [
    {
     "name": "stdout",
     "output_type": "stream",
     "text": [
      "<class 'pandas.core.frame.DataFrame'>\n",
      "Index: 18829 entries, 0 to 29320\n",
      "Data columns (total 36 columns):\n",
      " #   Column                  Non-Null Count  Dtype              \n",
      "---  ------                  --------------  -----              \n",
      " 0   video_id                18829 non-null  object             \n",
      " 1   title                   18829 non-null  object             \n",
      " 2   description             15125 non-null  object             \n",
      " 3   published_at            18829 non-null  datetime64[ns, UTC]\n",
      " 4   duration_minutes        18829 non-null  object             \n",
      " 5   definition              18829 non-null  object             \n",
      " 6   licensed_content        18829 non-null  object             \n",
      " 7   has_caption             18829 non-null  object             \n",
      " 8   category_id             18829 non-null  float64            \n",
      " 9   views                   18829 non-null  float64            \n",
      " 10  likes                   18829 non-null  float64            \n",
      " 11  comments                18829 non-null  float64            \n",
      " 12  tags                    10527 non-null  object             \n",
      " 13  tags_count              18829 non-null  float64            \n",
      " 14  views_per_day           18829 non-null  float64            \n",
      " 15  video_age_days          18829 non-null  float64            \n",
      " 16  engagement_rate         18822 non-null  float64            \n",
      " 17  efficiency              18822 non-null  float64            \n",
      " 18  engagement_subscribers  18822 non-null  float64            \n",
      " 19  subscriber_count        18829 non-null  object             \n",
      " 20  channel_id              18829 non-null  object             \n",
      " 21  channel_title           18829 non-null  object             \n",
      " 22  channel_description     17088 non-null  object             \n",
      " 23  channel_video_count     18828 non-null  float64            \n",
      " 24  channel_views           18828 non-null  object             \n",
      " 25  channel_created         18828 non-null  object             \n",
      " 26  channel_age_days        18828 non-null  float64            \n",
      " 27  frecuencia_videos       18821 non-null  float64            \n",
      " 28  views_rate_video        18821 non-null  float64            \n",
      " 29  mostpopular             18829 non-null  int64              \n",
      " 30  source_file             18829 non-null  object             \n",
      " 31  favorites               7 non-null      float64            \n",
      " 32  likes_per_view          7 non-null      float64            \n",
      " 33  comments_per_view       7 non-null      float64            \n",
      " 34  franja_trending         18829 non-null  object             \n",
      " 35  published_date          18829 non-null  object             \n",
      "dtypes: datetime64[ns, UTC](1), float64(17), int64(1), object(17)\n",
      "memory usage: 5.3+ MB\n"
     ]
    }
   ],
   "source": [
    "df_1.info()"
   ]
  },
  {
   "cell_type": "code",
   "execution_count": 46,
   "metadata": {},
   "outputs": [],
   "source": [
    "#Hay un valor en todos los datos raw de channel, que no fueron bien capturados. Eliminándo con `dropna` los valores existentes en la fila \"channel_creates\"\n",
    "# eliminamos estos valores faltantes\n",
    "df_1 = df_1.dropna(subset=[\"channel_created\"])"
   ]
  },
  {
   "cell_type": "code",
   "execution_count": 47,
   "metadata": {},
   "outputs": [
    {
     "name": "stdout",
     "output_type": "stream",
     "text": [
      "<class 'pandas.core.frame.DataFrame'>\n",
      "Index: 18828 entries, 0 to 29320\n",
      "Data columns (total 36 columns):\n",
      " #   Column                  Non-Null Count  Dtype              \n",
      "---  ------                  --------------  -----              \n",
      " 0   video_id                18828 non-null  object             \n",
      " 1   title                   18828 non-null  object             \n",
      " 2   description             15124 non-null  object             \n",
      " 3   published_at            18828 non-null  datetime64[ns, UTC]\n",
      " 4   duration_minutes        18828 non-null  object             \n",
      " 5   definition              18828 non-null  object             \n",
      " 6   licensed_content        18828 non-null  object             \n",
      " 7   has_caption             18828 non-null  object             \n",
      " 8   category_id             18828 non-null  float64            \n",
      " 9   views                   18828 non-null  float64            \n",
      " 10  likes                   18828 non-null  float64            \n",
      " 11  comments                18828 non-null  float64            \n",
      " 12  tags                    10527 non-null  object             \n",
      " 13  tags_count              18828 non-null  float64            \n",
      " 14  views_per_day           18828 non-null  float64            \n",
      " 15  video_age_days          18828 non-null  float64            \n",
      " 16  engagement_rate         18821 non-null  float64            \n",
      " 17  efficiency              18821 non-null  float64            \n",
      " 18  engagement_subscribers  18821 non-null  float64            \n",
      " 19  subscriber_count        18828 non-null  object             \n",
      " 20  channel_id              18828 non-null  object             \n",
      " 21  channel_title           18828 non-null  object             \n",
      " 22  channel_description     17087 non-null  object             \n",
      " 23  channel_video_count     18828 non-null  float64            \n",
      " 24  channel_views           18828 non-null  object             \n",
      " 25  channel_created         18828 non-null  object             \n",
      " 26  channel_age_days        18828 non-null  float64            \n",
      " 27  frecuencia_videos       18821 non-null  float64            \n",
      " 28  views_rate_video        18821 non-null  float64            \n",
      " 29  mostpopular             18828 non-null  int64              \n",
      " 30  source_file             18828 non-null  object             \n",
      " 31  favorites               7 non-null      float64            \n",
      " 32  likes_per_view          7 non-null      float64            \n",
      " 33  comments_per_view       7 non-null      float64            \n",
      " 34  franja_trending         18828 non-null  object             \n",
      " 35  published_date          18828 non-null  object             \n",
      "dtypes: datetime64[ns, UTC](1), float64(17), int64(1), object(17)\n",
      "memory usage: 5.3+ MB\n"
     ]
    }
   ],
   "source": [
    "df_1.info()"
   ]
  },
  {
   "cell_type": "code",
   "execution_count": 48,
   "metadata": {},
   "outputs": [],
   "source": [
    "# Los valores faltantes (7) en engagement_rate, efficiency, engagement_subscribers; y 18822 en favorites, likes_per_view y comments_per_view \n",
    "# se debe al gap en el uso de diferente código en los batch de captura de vídeos para los subsets \"mostpopular\" y \"vídeos <50000 views\"\n",
    "# Para resolver esta situacion eliminamos las columnas para volver a reconstruirlas posteriormente para todo el dataset en su totalidad \n",
    "df_1 = df_1.drop(\n",
    "    columns=[\"franja_trending\",\"channel_title_canonical\",\"comments_per_view\",\"likes_per_view\", \"favorites\",\"source_file\",\n",
    "             \"views_rate_video\",\"engagement_subscribers\",\"frecuencia_videos\",\"engagement_rate\",\n",
    "             \"efficiency\"],\n",
    "    errors=\"ignore\"\n",
    ")"
   ]
  },
  {
   "cell_type": "code",
   "execution_count": 49,
   "metadata": {},
   "outputs": [
    {
     "name": "stdout",
     "output_type": "stream",
     "text": [
      "<class 'pandas.core.frame.DataFrame'>\n",
      "Index: 18828 entries, 0 to 29320\n",
      "Data columns (total 26 columns):\n",
      " #   Column               Non-Null Count  Dtype              \n",
      "---  ------               --------------  -----              \n",
      " 0   video_id             18828 non-null  object             \n",
      " 1   title                18828 non-null  object             \n",
      " 2   description          15124 non-null  object             \n",
      " 3   published_at         18828 non-null  datetime64[ns, UTC]\n",
      " 4   duration_minutes     18828 non-null  object             \n",
      " 5   definition           18828 non-null  object             \n",
      " 6   licensed_content     18828 non-null  object             \n",
      " 7   has_caption          18828 non-null  object             \n",
      " 8   category_id          18828 non-null  float64            \n",
      " 9   views                18828 non-null  float64            \n",
      " 10  likes                18828 non-null  float64            \n",
      " 11  comments             18828 non-null  float64            \n",
      " 12  tags                 10527 non-null  object             \n",
      " 13  tags_count           18828 non-null  float64            \n",
      " 14  views_per_day        18828 non-null  float64            \n",
      " 15  video_age_days       18828 non-null  float64            \n",
      " 16  subscriber_count     18828 non-null  object             \n",
      " 17  channel_id           18828 non-null  object             \n",
      " 18  channel_title        18828 non-null  object             \n",
      " 19  channel_description  17087 non-null  object             \n",
      " 20  channel_video_count  18828 non-null  float64            \n",
      " 21  channel_views        18828 non-null  object             \n",
      " 22  channel_created      18828 non-null  object             \n",
      " 23  channel_age_days     18828 non-null  float64            \n",
      " 24  mostpopular          18828 non-null  int64              \n",
      " 25  published_date       18828 non-null  object             \n",
      "dtypes: datetime64[ns, UTC](1), float64(9), int64(1), object(15)\n",
      "memory usage: 3.9+ MB\n"
     ]
    }
   ],
   "source": [
    "df_1.info()"
   ]
  },
  {
   "cell_type": "markdown",
   "metadata": {},
   "source": [
    "### 1.2.1 Transformación de Datos\n",
    "\n",
    "- **Variables numéricas:** Se aplican transformaciones a variables `int64` para manejar valores extremos y mejorar la comparabilidad entre columnas.  \n",
    "\n",
    "- **Variables categóricas:** La columna `category_id` se convierte a tipo `category` para optimizar memoria, facilitar el análisis exploratorio y preparar la codificación para modelos de Machine Learning.  \n",
    "\n",
    "- **Variables binarias:** Columnas como `definition`, `has_caption` y `licensed_content` se transforman a `int64` dada su naturaleza booleana (0/1). Esto permite trabajar de manera más eficiente en el EDA y facilita su tratamiento en modelos de ML."
   ]
  },
  {
   "cell_type": "code",
   "execution_count": 50,
   "metadata": {},
   "outputs": [],
   "source": [
    "cols_int = [\"channel_views\", \"subscriber_count\",\"channel_age_days\",\"channel_video_count\", \"video_age_days\", \"views_per_day\",\"tags_count\",\"comments\", \"likes\",\"views\" ]  # las columnas que quieres\n",
    "df_1[cols_int] = df_1[cols_int].astype(\"int64\")\n",
    "df_1[\"duration_minutes\"] = pd.to_numeric(df_1[\"duration_minutes\"], errors=\"coerce\").astype(int)"
   ]
  },
  {
   "cell_type": "code",
   "execution_count": 51,
   "metadata": {},
   "outputs": [],
   "source": [
    "df_1['category_id']=df_1['category_id'].astype('category')\n",
    "df_1[\"licensed_content\"] = (df_1[\"licensed_content\"].astype(str).str.strip().str.lower().map({\"true\": 1, \"false\": 0}).astype(\"Int64\"))          # Dado que me da problemas hago una limpieza simpleenteros con NA si algo no encaja\n",
    "df_1[\"definition\"] = df_1[\"definition\"].map({\"sd\": 0, \"hd\": 1}).astype(int)\n",
    "df_1[\"has_caption\"] = (df_1[\"has_caption\"].astype(str).str.strip().str.lower().map({\"true\": 1, \"false\": 0}).astype(\"Int64\"))  "
   ]
  },
  {
   "cell_type": "code",
   "execution_count": 52,
   "metadata": {},
   "outputs": [],
   "source": [
    "df_1=df_1.copy()"
   ]
  },
  {
   "cell_type": "code",
   "execution_count": 53,
   "metadata": {},
   "outputs": [],
   "source": [
    "#Reconstruirmos las variables derivadas\n",
    "\n",
    "def division_segura(numerador, denominador):\n",
    "    return np.where(denominador > 0, numerador / denominador, 0)\n",
    "\n",
    "df_1[\"engagement_rate\"] = division_segura(\n",
    "    df_1[\"likes\"] + df_1[\"comments\"], \n",
    "    df_1[\"views\"]\n",
    ")\n",
    "\n",
    "df_1[\"efficiency\"] = division_segura(\n",
    "    df_1[\"likes\"] + df_1[\"comments\"], \n",
    "    df_1[\"channel_video_count\"]\n",
    ")\n",
    "\n",
    "df_1[\"engagement_subscribers\"] = division_segura(\n",
    "    df_1[\"likes\"] + df_1[\"comments\"], \n",
    "    df_1[\"subscriber_count\"]\n",
    ")\n",
    "\n",
    "df_1[\"frecuencia_videos\"] = division_segura(\n",
    "    df_1[\"channel_video_count\"], \n",
    "    df_1[\"channel_age_days\"]\n",
    ")\n",
    "\n",
    "df_1[\"views_rate_video\"] = division_segura(\n",
    "    df_1[\"channel_views\"], \n",
    "    df_1[\"channel_video_count\"]\n",
    ")\n",
    "\n",
    "df_1[\"likes_per_view\"] = division_segura(\n",
    "    df_1[\"likes\"], \n",
    "    df_1[\"views\"]\n",
    ")\n",
    "\n",
    "df_1[\"comments_per_view\"] = division_segura(\n",
    "    df_1[\"comments\"], \n",
    "    df_1[\"views\"]\n",
    ")"
   ]
  },
  {
   "cell_type": "markdown",
   "metadata": {},
   "source": [
    "### 1.2.2 Filtración de duplicados\n",
    "\n",
    "- Empleamos `keep=False` con el objetivo de obtener el último valor registrado en nuestro dataset, dado que muchos de los vídeos **most popular** aparecen en la lista durante varios días.  \n",
    "- Con el objetivo de capturar aquellos valores que reflejan **mejor performance**, decidimos filtrar los datos siguiendo la lógica mencionada anteriormente."
   ]
  },
  {
   "cell_type": "code",
   "execution_count": 54,
   "metadata": {},
   "outputs": [],
   "source": [
    "duplicados = df_1[df_1[\"video_id\"].duplicated(keep=False)].sort_values(\"published_at\")\n",
    "df_sin_repeticion = df_1.drop_duplicates(subset=\"video_id\", keep=\"last\")\n",
    "df_1=df_sin_repeticion"
   ]
  },
  {
   "cell_type": "code",
   "execution_count": 55,
   "metadata": {},
   "outputs": [
    {
     "name": "stdout",
     "output_type": "stream",
     "text": [
      "<class 'pandas.core.frame.DataFrame'>\n",
      "RangeIndex: 17825 entries, 0 to 17824\n",
      "Data columns (total 33 columns):\n",
      " #   Column                  Non-Null Count  Dtype              \n",
      "---  ------                  --------------  -----              \n",
      " 0   video_id                17825 non-null  object             \n",
      " 1   title                   17825 non-null  object             \n",
      " 2   description             14298 non-null  object             \n",
      " 3   published_at            17825 non-null  datetime64[ns, UTC]\n",
      " 4   duration_minutes        17825 non-null  int64              \n",
      " 5   definition              17825 non-null  int64              \n",
      " 6   licensed_content        17825 non-null  Int64              \n",
      " 7   has_caption             17825 non-null  Int64              \n",
      " 8   category_id             17825 non-null  category           \n",
      " 9   views                   17825 non-null  int64              \n",
      " 10  likes                   17825 non-null  int64              \n",
      " 11  comments                17825 non-null  int64              \n",
      " 12  tags                    9952 non-null   object             \n",
      " 13  tags_count              17825 non-null  int64              \n",
      " 14  views_per_day           17825 non-null  int64              \n",
      " 15  video_age_days          17825 non-null  int64              \n",
      " 16  subscriber_count        17825 non-null  int64              \n",
      " 17  channel_id              17825 non-null  object             \n",
      " 18  channel_title           17825 non-null  object             \n",
      " 19  channel_description     16179 non-null  object             \n",
      " 20  channel_video_count     17825 non-null  int64              \n",
      " 21  channel_views           17825 non-null  int64              \n",
      " 22  channel_created         17825 non-null  object             \n",
      " 23  channel_age_days        17825 non-null  int64              \n",
      " 24  mostpopular             17825 non-null  int64              \n",
      " 25  published_date          17825 non-null  object             \n",
      " 26  engagement_rate         17825 non-null  float64            \n",
      " 27  efficiency              17825 non-null  float64            \n",
      " 28  engagement_subscribers  17825 non-null  float64            \n",
      " 29  frecuencia_videos       17825 non-null  float64            \n",
      " 30  views_rate_video        17825 non-null  float64            \n",
      " 31  likes_per_view          17825 non-null  float64            \n",
      " 32  comments_per_view       17825 non-null  float64            \n",
      "dtypes: Int64(2), category(1), datetime64[ns, UTC](1), float64(7), int64(13), object(9)\n",
      "memory usage: 4.4+ MB\n"
     ]
    }
   ],
   "source": [
    "#Reseteamos el índice\n",
    "df_1 = df_1.reset_index(drop=True)\n",
    "df_1.info()"
   ]
  },
  {
   "cell_type": "code",
   "execution_count": 56,
   "metadata": {},
   "outputs": [
    {
     "name": "stdout",
     "output_type": "stream",
     "text": [
      "<class 'pandas.core.frame.DataFrame'>\n",
      "RangeIndex: 17825 entries, 0 to 17824\n",
      "Data columns (total 33 columns):\n",
      " #   Column                  Non-Null Count  Dtype              \n",
      "---  ------                  --------------  -----              \n",
      " 0   video_id                17825 non-null  object             \n",
      " 1   title                   17825 non-null  object             \n",
      " 2   description             14298 non-null  object             \n",
      " 3   published_at            17825 non-null  datetime64[ns, UTC]\n",
      " 4   duration_minutes        17825 non-null  int64              \n",
      " 5   definition              17825 non-null  int64              \n",
      " 6   licensed_content        17825 non-null  Int64              \n",
      " 7   has_caption             17825 non-null  Int64              \n",
      " 8   category_id             17825 non-null  category           \n",
      " 9   views                   17825 non-null  int64              \n",
      " 10  likes                   17825 non-null  int64              \n",
      " 11  comments                17825 non-null  int64              \n",
      " 12  tags                    9952 non-null   object             \n",
      " 13  tags_count              17825 non-null  int64              \n",
      " 14  views_per_day           17825 non-null  int64              \n",
      " 15  video_age_days          17825 non-null  int64              \n",
      " 16  subscriber_count        17825 non-null  int64              \n",
      " 17  channel_id              17825 non-null  object             \n",
      " 18  channel_title           17825 non-null  object             \n",
      " 19  channel_description     16179 non-null  object             \n",
      " 20  channel_video_count     17825 non-null  int64              \n",
      " 21  channel_views           17825 non-null  int64              \n",
      " 22  channel_created         17825 non-null  object             \n",
      " 23  channel_age_days        17825 non-null  int64              \n",
      " 24  mostpopular             17825 non-null  int64              \n",
      " 25  published_date          17825 non-null  object             \n",
      " 26  engagement_rate         17825 non-null  float64            \n",
      " 27  efficiency              17825 non-null  float64            \n",
      " 28  engagement_subscribers  17825 non-null  float64            \n",
      " 29  frecuencia_videos       17825 non-null  float64            \n",
      " 30  views_rate_video        17825 non-null  float64            \n",
      " 31  likes_per_view          17825 non-null  float64            \n",
      " 32  comments_per_view       17825 non-null  float64            \n",
      "dtypes: Int64(2), category(1), datetime64[ns, UTC](1), float64(7), int64(13), object(9)\n",
      "memory usage: 4.4+ MB\n"
     ]
    }
   ],
   "source": [
    "df_1.info()"
   ]
  },
  {
   "cell_type": "markdown",
   "metadata": {},
   "source": [
    "### 1.2.3 Verificación de unicidad en los valores del dataset"
   ]
  },
  {
   "cell_type": "code",
   "execution_count": 57,
   "metadata": {},
   "outputs": [
    {
     "name": "stdout",
     "output_type": "stream",
     "text": [
      "Filas totales: 17825\n",
      "Video_id únicos: 17825\n",
      "¿Todos únicos?: True\n"
     ]
    }
   ],
   "source": [
    "df_1[\"video_id\"] = df_1[\"video_id\"].astype(str).str.strip()\n",
    "\n",
    "print(\"Filas totales:\", len(df_1))\n",
    "print(\"Video_id únicos:\", df_1[\"video_id\"].nunique())\n",
    "print(\"¿Todos únicos?:\", df_1[\"video_id\"].nunique() == len(df_1))"
   ]
  },
  {
   "cell_type": "markdown",
   "metadata": {},
   "source": [
    "### 1.2.4 Selección y Depuración de Variables No Relevantes\n",
    "\n",
    "- Se eliminaron las columnas `\"franja_trending\"`, `\"channel_title_canonical\"` y `\"source_file\"` ya que son variables utilizadas únicamente para verificación de la funcionalidad del dataset.  \n",
    "- La columna `\"favorites\"` se depuró porque es una categoría vacía; el API de YouTube no genera información al respecto.  \n",
    "- Las columnas relacionadas con fechas (`\"published_date\"`, `\"channel_created\"`, `\"published_at\"`) también fueron filtradas:  \n",
    "  - `\"published_at\"`, que indica cuándo se publicó el vídeo, se eliminó porque el objetivo de esta investigación es analizar la performance de los vídeos desde una lógica **sincrónica**, es decir, una fotografía fija en el tiempo, por lo que esta información pierde relevancia.  \n",
    "  - `\"channel_created\"` se transformó en la diferencia en días desde la creación del canal hasta la publicación y captura del vídeo.  \n",
    "  - `\"published_date\"` corresponde a una transformación interna realizada para la verificación del dataset.  "
   ]
  },
  {
   "cell_type": "code",
   "execution_count": 58,
   "metadata": {},
   "outputs": [],
   "source": [
    "df_1 = df_1.drop(columns=[\"franja_trending\",\"channel_title_canonical\",\"favorites\",\"source_file\",\n",
    "                          \"published_at\",\"channel_created\",\"published_at\"],\n",
    "    errors=\"ignore\")"
   ]
  },
  {
   "cell_type": "markdown",
   "metadata": {},
   "source": [
    "## 1.3 Creación de embeddings\n",
    "\n",
    "- EXPLICACION DEL PROCESO COMO TAL"
   ]
  },
  {
   "cell_type": "code",
   "execution_count": 59,
   "metadata": {},
   "outputs": [
    {
     "name": "stderr",
     "output_type": "stream",
     "text": [
      "Batches: 100%|██████████| 279/279 [01:00<00:00,  4.60it/s]\n",
      "Batches: 100%|██████████| 164/164 [00:29<00:00,  5.58it/s]\n"
     ]
    }
   ],
   "source": [
    "# ========= 0) Imports y utilidades =========\n",
    "\n",
    "def l2_normalize(X, eps=1e-12):\n",
    "    X = np.asarray(X)\n",
    "    if X.ndim == 1:\n",
    "        n = np.linalg.norm(X)\n",
    "        return X / (n + eps)\n",
    "    n = np.linalg.norm(X, axis=1, keepdims=True)\n",
    "    return X / (n + eps)\n",
    "\n",
    "# Convierte una Serie de arrays en matriz 2D (útil luego para PCA/Modelos)\n",
    "def stack_array_col(X):\n",
    "    return np.vstack(X.iloc[:, 0].to_numpy())\n",
    "\n",
    "\n",
    "# ========= 1) Textos (limpieza ligera y etiquetas) =========\n",
    "# asumimos que tu DF se llama df_video y tiene estas columnas\n",
    "# [\"video_id\",\"channel_id\",\"title\",\"description\",\"tags\",\"channel_title\",\"channel_description\"]\n",
    "\n",
    "df_1[\"text_video\"] = (\n",
    "    \"[TITLE] \" + df_1[\"title\"].fillna(\"\") + \" \"\n",
    "    \"[DESC] \"  + df_1[\"description\"].fillna(\"\") + \" \"\n",
    "    \"[TAGS] \"  + df_1[\"tags\"].fillna(\"\")\n",
    ").str.replace(r\"\\s+\", \" \", regex=True).str.strip()\n",
    "\n",
    "# texto de canal: calcular UNA vez por canal\n",
    "ch_base = (df_1[[\"channel_id\",\"channel_title\",\"channel_description\"]]\n",
    "           .drop_duplicates(\"channel_id\")\n",
    "           .copy())\n",
    "ch_base[\"text_channel\"] = (\n",
    "    \"[CHANNEL] \" + ch_base[\"channel_title\"].fillna(\"\") + \" \"\n",
    "    \"[DESC] \"    + ch_base[\"channel_description\"].fillna(\"\")\n",
    ").str.replace(r\"\\s+\", \" \", regex=True).str.strip()\n",
    "\n",
    "\n",
    "# ========= 2) Cargar modelo multilingüe =========\n",
    "model_name = \"sentence-transformers/paraphrase-multilingual-MiniLM-L12-v2\"  # 384 dims\n",
    "model = SentenceTransformer(model_name)\n",
    "\n",
    "\n",
    "# ========= 3) Embeddings (vídeo y canal-raw) =========\n",
    "# Vídeo\n",
    "v_emb = model.encode(\n",
    "    df_1[\"text_video\"].tolist(),\n",
    "    batch_size=64, convert_to_numpy=True, show_progress_bar=True\n",
    ")\n",
    "v_emb = l2_normalize(v_emb)\n",
    "\n",
    "# Canal (texto propio del canal, mapeado a cada channel_id)\n",
    "c_raw = model.encode(\n",
    "    ch_base[\"text_channel\"].tolist(),\n",
    "    batch_size=64, convert_to_numpy=True, show_progress_bar=True\n",
    ")\n",
    "c_raw = l2_normalize(c_raw)\n",
    "c_raw_map = dict(zip(ch_base[\"channel_id\"].tolist(), list(c_raw)))\n",
    "\n",
    "\n",
    "# ========= 4) Embedding de canal agregado (media simple de sus vídeos) =========\n",
    "# (sin ponderar: tu dataset es ~3 días de antigüedad)\n",
    "means = {}\n",
    "tmp = pd.DataFrame({\"channel_id\": df_1[\"channel_id\"].values,\n",
    "                    \"row_idx\": np.arange(len(df_1))})\n",
    "for ch_id, idxs in tmp.groupby(\"channel_id\")[\"row_idx\"]:\n",
    "    m = v_emb[idxs.to_numpy()].mean(axis=0)\n",
    "    means[ch_id] = l2_normalize(m)\n",
    "\n",
    "# Mezcla canal final = 50% texto canal + 50% media de vídeos\n",
    "beta = 0.5\n",
    "c_final_map = {ch: l2_normalize(beta * c_raw_map[ch] + (1 - beta) * means[ch])\n",
    "               for ch in means.keys()}\n",
    "\n",
    "\n",
    "# ========= 5) Embedding conjunto por vídeo (vídeo + canal_final) =========\n",
    "alpha = 0.7  # 70% vídeo, 30% contexto de canal\n",
    "c_final_mat = np.vstack(df_1[\"channel_id\"].map(c_final_map).to_numpy())\n",
    "joint_emb = l2_normalize(alpha * v_emb + (1 - alpha) * c_final_mat)\n",
    "\n",
    "# Guardar en el DataFrame (como arrays por fila) para no recomputar\n",
    "df_1[\"embedding_video\"]         = list(v_emb)\n",
    "df_1[\"embedding_channel_raw\"]   = df_1[\"channel_id\"].map(c_raw_map)\n",
    "df_1[\"embedding_channel_agg\"]   = df_1[\"channel_id\"].map(means)\n",
    "df_1[\"embedding_channel_final\"] = df_1[\"channel_id\"].map(c_final_map)\n",
    "df_1[\"embedding_joint\"]         = list(joint_emb)\n",
    "\n",
    "# (opcional) persistir\n",
    "df_1.to_parquet(\"/Users/danielmunoz/Documents/EDUCACION/DATA_ANALIST/CURSOS/TFM/DATA/PROCESSED/df_TFMYouTube_embeddings_DEFINITIVO.parquet\", index=False)"
   ]
  },
  {
   "cell_type": "code",
   "execution_count": 60,
   "metadata": {},
   "outputs": [
    {
     "name": "stdout",
     "output_type": "stream",
     "text": [
      "<class 'pandas.core.frame.DataFrame'>\n",
      "RangeIndex: 17825 entries, 0 to 17824\n",
      "Data columns (total 37 columns):\n",
      " #   Column                   Non-Null Count  Dtype   \n",
      "---  ------                   --------------  -----   \n",
      " 0   video_id                 17825 non-null  object  \n",
      " 1   title                    17825 non-null  object  \n",
      " 2   description              14298 non-null  object  \n",
      " 3   duration_minutes         17825 non-null  int64   \n",
      " 4   definition               17825 non-null  int64   \n",
      " 5   licensed_content         17825 non-null  Int64   \n",
      " 6   has_caption              17825 non-null  Int64   \n",
      " 7   category_id              17825 non-null  category\n",
      " 8   views                    17825 non-null  int64   \n",
      " 9   likes                    17825 non-null  int64   \n",
      " 10  comments                 17825 non-null  int64   \n",
      " 11  tags                     9952 non-null   object  \n",
      " 12  tags_count               17825 non-null  int64   \n",
      " 13  views_per_day            17825 non-null  int64   \n",
      " 14  video_age_days           17825 non-null  int64   \n",
      " 15  subscriber_count         17825 non-null  int64   \n",
      " 16  channel_id               17825 non-null  object  \n",
      " 17  channel_title            17825 non-null  object  \n",
      " 18  channel_description      16179 non-null  object  \n",
      " 19  channel_video_count      17825 non-null  int64   \n",
      " 20  channel_views            17825 non-null  int64   \n",
      " 21  channel_age_days         17825 non-null  int64   \n",
      " 22  mostpopular              17825 non-null  int64   \n",
      " 23  published_date           17825 non-null  object  \n",
      " 24  engagement_rate          17825 non-null  float64 \n",
      " 25  efficiency               17825 non-null  float64 \n",
      " 26  engagement_subscribers   17825 non-null  float64 \n",
      " 27  frecuencia_videos        17825 non-null  float64 \n",
      " 28  views_rate_video         17825 non-null  float64 \n",
      " 29  likes_per_view           17825 non-null  float64 \n",
      " 30  comments_per_view        17825 non-null  float64 \n",
      " 31  text_video               17825 non-null  object  \n",
      " 32  embedding_video          17825 non-null  object  \n",
      " 33  embedding_channel_raw    17825 non-null  object  \n",
      " 34  embedding_channel_agg    17825 non-null  object  \n",
      " 35  embedding_channel_final  17825 non-null  object  \n",
      " 36  embedding_joint          17825 non-null  object  \n",
      "dtypes: Int64(2), category(1), float64(7), int64(13), object(14)\n",
      "memory usage: 4.9+ MB\n"
     ]
    }
   ],
   "source": [
    "df_1.info()"
   ]
  },
  {
   "cell_type": "markdown",
   "metadata": {},
   "source": [
    "# 1.4 Creación del dataset con embeddings"
   ]
  },
  {
   "cell_type": "markdown",
   "metadata": {},
   "source": [
    "### Procesamiento de embeddings\n",
    "\n",
    "Con este código a continuación se disminuyeron las dimensiones de los embeddings obtenidos, en 5 y luego 2 dimiensiones, para poder situarlas en un espacio físico (eje x e y). Además, se empleó la técnica HDBSCAN para generar clusters a partir de los grupos establecidos.\n",
    "\n",
    "Una vez realizado este proceso se guardó la información en un dataset, y de esta forma evitar la ejecución de este proceso de re-dimensionalización y clusterización cada vez que se tuviera que ejecutara este código"
   ]
  },
  {
   "cell_type": "code",
   "execution_count": 61,
   "metadata": {},
   "outputs": [
    {
     "name": "stdout",
     "output_type": "stream",
     "text": [
      "UMAP(angular_rp_forest=True, metric='cosine', n_components=5, n_jobs=1, n_neighbors=50, random_state=42, verbose=True)\n",
      "Tue Oct 28 13:38:16 2025 Construct fuzzy simplicial set\n",
      "Tue Oct 28 13:38:16 2025 Finding Nearest Neighbors\n",
      "Tue Oct 28 13:38:16 2025 Building RP forest with 12 trees\n"
     ]
    },
    {
     "name": "stderr",
     "output_type": "stream",
     "text": [
      "/opt/anaconda3/envs/yt-ml-spvd/lib/python3.10/site-packages/umap/umap_.py:1952: UserWarning: n_jobs value 1 overridden to 1 by setting random_state. Use no seed for parallelism.\n",
      "  warn(\n"
     ]
    },
    {
     "name": "stdout",
     "output_type": "stream",
     "text": [
      "Tue Oct 28 13:38:19 2025 NN descent for 14 iterations\n",
      "\t 1  /  14\n",
      "\t 2  /  14\n",
      "\t 3  /  14\n",
      "\t 4  /  14\n",
      "\tStopping threshold met -- exiting after 4 iterations\n",
      "Tue Oct 28 13:38:29 2025 Finished Nearest Neighbor Search\n",
      "Tue Oct 28 13:38:30 2025 Construct embedding\n"
     ]
    },
    {
     "name": "stderr",
     "output_type": "stream",
     "text": [
      "Epochs completed:   4%| ▍          9/200 [00:00]"
     ]
    },
    {
     "name": "stdout",
     "output_type": "stream",
     "text": [
      "\tcompleted  0  /  200 epochs\n"
     ]
    },
    {
     "name": "stderr",
     "output_type": "stream",
     "text": [
      "Epochs completed:  12%| █▏         24/200 [00:01]"
     ]
    },
    {
     "name": "stdout",
     "output_type": "stream",
     "text": [
      "\tcompleted  20  /  200 epochs\n"
     ]
    },
    {
     "name": "stderr",
     "output_type": "stream",
     "text": [
      "Epochs completed:  22%| ██▎        45/200 [00:02]"
     ]
    },
    {
     "name": "stdout",
     "output_type": "stream",
     "text": [
      "\tcompleted  40  /  200 epochs\n"
     ]
    },
    {
     "name": "stderr",
     "output_type": "stream",
     "text": [
      "Epochs completed:  32%| ███▎       65/200 [00:03]"
     ]
    },
    {
     "name": "stdout",
     "output_type": "stream",
     "text": [
      "\tcompleted  60  /  200 epochs\n"
     ]
    },
    {
     "name": "stderr",
     "output_type": "stream",
     "text": [
      "Epochs completed:  42%| ████▎      85/200 [00:04]"
     ]
    },
    {
     "name": "stdout",
     "output_type": "stream",
     "text": [
      "\tcompleted  80  /  200 epochs\n"
     ]
    },
    {
     "name": "stderr",
     "output_type": "stream",
     "text": [
      "Epochs completed:  52%| █████▎     105/200 [00:05]"
     ]
    },
    {
     "name": "stdout",
     "output_type": "stream",
     "text": [
      "\tcompleted  100  /  200 epochs\n"
     ]
    },
    {
     "name": "stderr",
     "output_type": "stream",
     "text": [
      "Epochs completed:  62%| ██████▎    125/200 [00:06]"
     ]
    },
    {
     "name": "stdout",
     "output_type": "stream",
     "text": [
      "\tcompleted  120  /  200 epochs\n"
     ]
    },
    {
     "name": "stderr",
     "output_type": "stream",
     "text": [
      "Epochs completed:  72%| ███████▎   145/200 [00:07]"
     ]
    },
    {
     "name": "stdout",
     "output_type": "stream",
     "text": [
      "\tcompleted  140  /  200 epochs\n"
     ]
    },
    {
     "name": "stderr",
     "output_type": "stream",
     "text": [
      "Epochs completed:  82%| ████████▎  165/200 [00:08]"
     ]
    },
    {
     "name": "stdout",
     "output_type": "stream",
     "text": [
      "\tcompleted  160  /  200 epochs\n"
     ]
    },
    {
     "name": "stderr",
     "output_type": "stream",
     "text": [
      "Epochs completed:  92%| █████████▎ 185/200 [00:09]"
     ]
    },
    {
     "name": "stdout",
     "output_type": "stream",
     "text": [
      "\tcompleted  180  /  200 epochs\n"
     ]
    },
    {
     "name": "stderr",
     "output_type": "stream",
     "text": [
      "Epochs completed: 100%| ██████████ 200/200 [00:10]\n"
     ]
    },
    {
     "name": "stdout",
     "output_type": "stream",
     "text": [
      "Tue Oct 28 13:38:42 2025 Finished embedding\n"
     ]
    },
    {
     "name": "stderr",
     "output_type": "stream",
     "text": [
      "/opt/anaconda3/envs/yt-ml-spvd/lib/python3.10/site-packages/sklearn/utils/deprecation.py:132: FutureWarning: 'force_all_finite' was renamed to 'ensure_all_finite' in 1.6 and will be removed in 1.8.\n",
      "  warnings.warn(\n",
      "/opt/anaconda3/envs/yt-ml-spvd/lib/python3.10/site-packages/sklearn/utils/deprecation.py:132: FutureWarning: 'force_all_finite' was renamed to 'ensure_all_finite' in 1.6 and will be removed in 1.8.\n",
      "  warnings.warn(\n",
      "huggingface/tokenizers: The current process just got forked, after parallelism has already been used. Disabling parallelism to avoid deadlocks...\n",
      "To disable this warning, you can either:\n",
      "\t- Avoid using `tokenizers` before the fork if possible\n",
      "\t- Explicitly set the environment variable TOKENIZERS_PARALLELISM=(true | false)\n",
      "huggingface/tokenizers: The current process just got forked, after parallelism has already been used. Disabling parallelism to avoid deadlocks...\n",
      "To disable this warning, you can either:\n",
      "\t- Avoid using `tokenizers` before the fork if possible\n",
      "\t- Explicitly set the environment variable TOKENIZERS_PARALLELISM=(true | false)\n",
      "huggingface/tokenizers: The current process just got forked, after parallelism has already been used. Disabling parallelism to avoid deadlocks...\n",
      "To disable this warning, you can either:\n",
      "\t- Avoid using `tokenizers` before the fork if possible\n",
      "\t- Explicitly set the environment variable TOKENIZERS_PARALLELISM=(true | false)\n",
      "huggingface/tokenizers: The current process just got forked, after parallelism has already been used. Disabling parallelism to avoid deadlocks...\n",
      "To disable this warning, you can either:\n",
      "\t- Avoid using `tokenizers` before the fork if possible\n",
      "\t- Explicitly set the environment variable TOKENIZERS_PARALLELISM=(true | false)\n",
      "huggingface/tokenizers: The current process just got forked, after parallelism has already been used. Disabling parallelism to avoid deadlocks...\n",
      "To disable this warning, you can either:\n",
      "\t- Avoid using `tokenizers` before the fork if possible\n",
      "\t- Explicitly set the environment variable TOKENIZERS_PARALLELISM=(true | false)\n",
      "/opt/anaconda3/envs/yt-ml-spvd/lib/python3.10/site-packages/umap/umap_.py:1952: UserWarning: n_jobs value 1 overridden to 1 by setting random_state. Use no seed for parallelism.\n",
      "  warn(\n"
     ]
    }
   ],
   "source": [
    "X = np.vstack(df_1[\"embedding_joint\"].to_numpy())   # <- joint_emb\n",
    "\n",
    "# # ===================== 1) UMAP a 5D (Preclusterización) =====================\n",
    "\n",
    "\n",
    "umap5 = UMAP(\n",
    "    n_components=5,\n",
    "    n_neighbors=50,\n",
    "    min_dist=0.1,\n",
    "    metric=\"cosine\",\n",
    "    random_state=42,\n",
    "    verbose=True\n",
    ")\n",
    "X_umap5 = umap5.fit_transform(X)  # (n, 5)\n",
    "\n",
    "# # ===================== 2) Clustering con HDBSCAN (sobre 5D) =====================\n",
    "clusterer = hdbscan.HDBSCAN(\n",
    "    min_cluster_size=30,           # ajusta 30–100 según tu N\n",
    "    min_samples=None,              # o p.ej. 10 si quieres clusters más conservadores\n",
    "    metric=\"euclidean\",            # tras UMAP usa euclidean\n",
    "    cluster_selection_method=\"eom\",\n",
    "    prediction_data=True\n",
    ")\n",
    "labels = clusterer.fit_predict(X_umap5)         # -1 = ruido\n",
    "probs   = clusterer.probabilities_\n",
    "\n",
    "# # Añadimos resultados al DF\n",
    "df_1[\"cluster_umap5\"] = labels\n",
    "df_1[\"cluster_confidence\"] = probs\n",
    "\n",
    "\n",
    "# # ===================== 3) UMAP a 2D (solo para visualización) =====================\n",
    "umap2 = UMAP(\n",
    "    n_components=2,\n",
    "    n_neighbors=50,\n",
    "    min_dist=0.1,\n",
    "    metric=\"cosine\",\n",
    "    random_state=42,\n",
    "    verbose=False\n",
    ")\n",
    "X_umap2 = umap2.fit_transform(X)  # puedes usar X o X_umap5 (ambas válidas para visualizar)\n",
    "\n",
    "df_1[\"umap2_x\"] = X_umap2[:, 0]\n",
    "df_1[\"umap2_y\"] = X_umap2[:, 1]\n",
    "\n"
   ]
  },
  {
   "cell_type": "code",
   "execution_count": null,
   "metadata": {},
   "outputs": [],
   "source": [
    "# df_1.to_parquet(\n",
    "#      \"/Users/danielmunoz/Documents/EDUCACION/DATA_ANALIST/CURSOS/TFM/DATA/PROCESSED/df_TFMYouTube_embeddings_UMAP5_CLUSTERS_UMAP2.parquet\",\n",
    "#     index=False)\n"
   ]
  }
 ],
 "metadata": {
  "kernelspec": {
   "display_name": "yt-ml-spvd",
   "language": "python",
   "name": "python3"
  },
  "language_info": {
   "codemirror_mode": {
    "name": "ipython",
    "version": 3
   },
   "file_extension": ".py",
   "mimetype": "text/x-python",
   "name": "python",
   "nbconvert_exporter": "python",
   "pygments_lexer": "ipython3",
   "version": "3.10.18"
  }
 },
 "nbformat": 4,
 "nbformat_minor": 2
}
