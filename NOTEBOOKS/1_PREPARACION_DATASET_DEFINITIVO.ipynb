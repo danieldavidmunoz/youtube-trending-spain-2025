{
 "cells": [
  {
   "cell_type": "markdown",
   "metadata": {},
   "source": [
    "# 1. PREPRARACION DEL DATASET\n",
    "\n",
    " 1.1 Carga de datos y exploraciones previas al EDA\n",
    "\n",
    " 1.2. Preparación y limpieza de Datos\n",
    "\n",
    " 1.2.1 Transformación de Datos\n",
    "\n",
    " 1.2.2 Filtración de duplicados\n",
    "\n",
    " 1.2.3 Verificación de unicidad en los valores del dataset \n",
    " \n",
    " 1.2.4 Selección y Depuración de Variables No Relevantes\n",
    "\n",
    " 1.3 Creación de embeddings\n",
    "\n",
    " 1.4 Creación del dataset con embeddings\n",
    "\n",
    "\n",
    " \n",
    "\n"
   ]
  },
  {
   "cell_type": "code",
   "execution_count": 1,
   "metadata": {},
   "outputs": [],
   "source": [
    "import pandas as pd\n",
    "import glob\n",
    "import os\n",
    "import numpy  as np\n",
    "import os\n",
    "import time    \n",
    "import matplotlib.pyplot as plt\n",
    "import seaborn as sns\n",
    "from sentence_transformers import SentenceTransformer\n",
    "from umap import UMAP\n",
    "import hdbscan\n",
    "from sklearn.preprocessing import StandardScaler  # (opcional)\n",
    "import matplotlib.pyplot as plt"
   ]
  },
  {
   "cell_type": "markdown",
   "metadata": {},
   "source": [
    "## 1.1 Carga de datos y exploraciones previas al EDA"
   ]
  },
  {
   "cell_type": "code",
   "execution_count": 2,
   "metadata": {},
   "outputs": [
    {
     "name": "stdout",
     "output_type": "stream",
     "text": [
      "Archivos NOPOPULAR: 60\n",
      "Archivos MOSTPOPULAR: 60\n",
      "(29398, 34)\n",
      "      video_id                                              title  \\\n",
      "0  VNqRXbyw6x0        ¿Cómo CURAR una GASTRITIS? | DrPoloGuerrero   \n",
      "1  3r3GAwGndCI  Lamine Yamal vs Como 1907 | 2 Goals (10/08/202...   \n",
      "2  a6mN0flleb8  Cómo Chile reinventó el Leopard 1v y así lo hi...   \n",
      "3  q9t5tF14vgI  COMO se HACE el CONTRACHAPADO de MADERA |ASÍ s...   \n",
      "4  Oy7U8VGmdzQ  ¡SHOCK AÉREO GLOBAL! : ¿Cómo Rusia derriba un ...   \n",
      "\n",
      "                                         description          published_at  \\\n",
      "0  ANTES DE TRATAR UNA GASTRITIS, NECESITAMOS SAB...  2025-08-11T01:30:22Z   \n",
      "1  Lamine Yamal vs Como 1907 (10/08/2025)\\n\\n🔔 Tu...  2025-08-10T22:55:33Z   \n",
      "2  Cómo Chile reinventó el Leopard 1 y lo convirt...  2025-08-10T22:00:03Z   \n",
      "3  🔰Descubre COMO se HACE el CONTRACHAPADO de MAD...  2025-08-10T16:45:04Z   \n",
      "4  En este video abordamos la alarmante situación...  2025-08-10T14:08:00Z   \n",
      "\n",
      "  duration_minutes definition licensed_content has_caption  category_id  \\\n",
      "0        16.566667         hd             True       False         27.0   \n",
      "1        11.233333         hd             True       False         17.0   \n",
      "2              7.2         hd             True       False         25.0   \n",
      "3         8.666667         hd             True       False         28.0   \n",
      "4        18.866667         hd             True       False         22.0   \n",
      "\n",
      "     views  ...  channel_views              channel_created channel_age_days  \\\n",
      "0  33665.0  ...     1724967670  2020-08-03T05:02:57.312998Z           1837.0   \n",
      "1  19332.0  ...       66214214  2021-03-25T18:41:20.207909Z           1602.0   \n",
      "2  38356.0  ...       35804779         2013-06-17T00:40:33Z           4441.0   \n",
      "3  25322.0  ...      333809715         2014-03-04T14:23:34Z           4180.0   \n",
      "4  13044.0  ...         705212  2025-07-17T13:10:38.916062Z             27.0   \n",
      "\n",
      "   frecuencia_videos  views_rate_video  mostpopular  \\\n",
      "0           0.815460      1.151514e+06            0   \n",
      "1           0.129213      3.198754e+05            0   \n",
      "2           0.163477      4.931788e+04            0   \n",
      "3           0.050478      1.582037e+06            0   \n",
      "4           0.962963      2.712354e+04            0   \n",
      "\n",
      "                   source_file  favorites  likes_per_view comments_per_view  \n",
      "0  250814_no_populares_96h.csv        NaN             NaN               NaN  \n",
      "1  250814_no_populares_96h.csv        NaN             NaN               NaN  \n",
      "2  250814_no_populares_96h.csv        NaN             NaN               NaN  \n",
      "3  250814_no_populares_96h.csv        NaN             NaN               NaN  \n",
      "4  250814_no_populares_96h.csv        NaN             NaN               NaN  \n",
      "\n",
      "[5 rows x 34 columns]\n"
     ]
    }
   ],
   "source": [
    "ruta_low  = \"/Users/danielmunoz/Documents/EDUCACION/DATA_ANALIST/CURSOS/TFM/DATA/RAW/DATASET/NOPOPULAR_2\"\n",
    "ruta_mpop = \"/Users/danielmunoz/Documents/EDUCACION/DATA_ANALIST/CURSOS/TFM/DATA/RAW/DATASET/MOST_POPULAR_3\"\n",
    "\n",
    "archivos_low  = glob.glob(os.path.join(ruta_low,  \"*.csv\"))\n",
    "archivos_mpop = glob.glob(os.path.join(ruta_mpop, \"*.csv\"))\n",
    "\n",
    "print(f\"Archivos NOPOPULAR: {len(archivos_low)}\")\n",
    "print(f\"Archivos MOSTPOPULAR: {len(archivos_mpop)}\")\n",
    "\n",
    "def leer_flexible(path, label):\n",
    "    # 1) intenta con ';'\n",
    "    try:\n",
    "        df = pd.read_csv(\n",
    "            path,\n",
    "            sep=\";\",\n",
    "            engine=\"python\",\n",
    "            encoding=\"utf-8\",\n",
    "            on_bad_lines=\"skip\"\n",
    "        )\n",
    "    except Exception:\n",
    "        # 2) intenta con ','\n",
    "        df = pd.read_csv(\n",
    "            path,\n",
    "            sep=\",\",\n",
    "            engine=\"python\",\n",
    "            encoding=\"utf-8\",\n",
    "            on_bad_lines=\"skip\"\n",
    "        )\n",
    "\n",
    "    # Si quedó todo en una sola columna (delimitador incorrecto), intenta sniff automático\n",
    "    if df.shape[1] == 1:\n",
    "        df = pd.read_csv(\n",
    "            path,\n",
    "            sep=None,              # sniff del separador\n",
    "            engine=\"python\",\n",
    "            encoding=\"utf-8\",\n",
    "            on_bad_lines=\"skip\"\n",
    "        )\n",
    "\n",
    "    df = df.assign(mostpopular=label, source_file=os.path.basename(path))\n",
    "    return df\n",
    "\n",
    "def concat_seguro(lista_paths, label):\n",
    "    if not lista_paths:\n",
    "        # Devuelve DataFrame vacío con la columna mostpopular para no romper concat\n",
    "        return pd.DataFrame(columns=[\"mostpopular\", \"source_file\"])\n",
    "    frames = []\n",
    "    for f in lista_paths:\n",
    "        try:\n",
    "            frames.append(leer_flexible(f, label))\n",
    "        except Exception as e:\n",
    "            print(f\"[WARN] No se pudo leer {f}: {e}\")\n",
    "    if frames:\n",
    "        return pd.concat(frames, ignore_index=True)\n",
    "    # Si ninguno se pudo leer, devolver DF vacío coherente\n",
    "    return pd.DataFrame(columns=[\"mostpopular\", \"source_file\"])\n",
    "\n",
    "df_low  = concat_seguro(archivos_low,  label=0)\n",
    "df_mpop = concat_seguro(archivos_mpop, label=1)\n",
    "\n",
    "# Unificar\n",
    "df = pd.concat([df_low, df_mpop], ignore_index=True)\n",
    "\n",
    "print(df.shape)\n",
    "print(df.head())"
   ]
  },
  {
   "cell_type": "code",
   "execution_count": 3,
   "metadata": {},
   "outputs": [
    {
     "name": "stdout",
     "output_type": "stream",
     "text": [
      "<class 'pandas.core.frame.DataFrame'>\n",
      "RangeIndex: 29398 entries, 0 to 29397\n",
      "Data columns (total 34 columns):\n",
      " #   Column                  Non-Null Count  Dtype  \n",
      "---  ------                  --------------  -----  \n",
      " 0   video_id                29397 non-null  object \n",
      " 1   title                   29398 non-null  object \n",
      " 2   description             25433 non-null  object \n",
      " 3   published_at            29397 non-null  object \n",
      " 4   duration_minutes        29397 non-null  object \n",
      " 5   definition              29397 non-null  object \n",
      " 6   licensed_content        29397 non-null  object \n",
      " 7   has_caption             29396 non-null  object \n",
      " 8   category_id             29396 non-null  float64\n",
      " 9   views                   29396 non-null  float64\n",
      " 10  likes                   29396 non-null  float64\n",
      " 11  comments                29395 non-null  float64\n",
      " 12  tags                    19244 non-null  object \n",
      " 13  tags_count              29396 non-null  float64\n",
      " 14  views_per_day           29396 non-null  float64\n",
      " 15  video_age_days          29396 non-null  float64\n",
      " 16  engagement_rate         29196 non-null  float64\n",
      " 17  efficiency              29196 non-null  float64\n",
      " 18  engagement_subscribers  29196 non-null  float64\n",
      " 19  subscriber_count        29396 non-null  object \n",
      " 20  channel_id              29396 non-null  object \n",
      " 21  channel_title           29396 non-null  object \n",
      " 22  channel_description     26346 non-null  object \n",
      " 23  channel_video_count     29395 non-null  float64\n",
      " 24  channel_views           29395 non-null  object \n",
      " 25  channel_created         29395 non-null  object \n",
      " 26  channel_age_days        29395 non-null  float64\n",
      " 27  frecuencia_videos       29195 non-null  float64\n",
      " 28  views_rate_video        29194 non-null  float64\n",
      " 29  mostpopular             29398 non-null  int64  \n",
      " 30  source_file             29398 non-null  object \n",
      " 31  favorites               200 non-null    float64\n",
      " 32  likes_per_view          200 non-null    float64\n",
      " 33  comments_per_view       200 non-null    float64\n",
      "dtypes: float64(17), int64(1), object(16)\n",
      "memory usage: 7.6+ MB\n"
     ]
    }
   ],
   "source": [
    "df.info()"
   ]
  },
  {
   "cell_type": "markdown",
   "metadata": {},
   "source": [
    "Primeras exploraciones y preaparacion inicial del dataset"
   ]
  },
  {
   "cell_type": "code",
   "execution_count": 4,
   "metadata": {},
   "outputs": [
    {
     "name": "stdout",
     "output_type": "stream",
     "text": [
      "Número de vídeos trending al día 3: 830\n"
     ]
    }
   ],
   "source": [
    "\n",
    "count_3d = df[(df[\"mostpopular\"] == 1) & (df[\"video_age_days\"] == 3)].shape[0]\n",
    "print(\"Número de vídeos trending al día 3:\", count_3d)"
   ]
  },
  {
   "cell_type": "markdown",
   "metadata": {},
   "source": [
    "Sobre la selección de los vídeos en el 3er día"
   ]
  },
  {
   "cell_type": "code",
   "execution_count": 5,
   "metadata": {},
   "outputs": [
    {
     "name": "stdout",
     "output_type": "stream",
     "text": [
      "Distribución de entrada a trending por franja (en %):\n"
     ]
    }
   ],
   "source": [
    "# Definir función para asignar franja\n",
    "def asignar_franja(dias):\n",
    "    if dias < 1:\n",
    "        return \"0-24h\"\n",
    "    elif dias < 2:\n",
    "        return \"24-48h\"\n",
    "    elif dias < 3:\n",
    "        return \"48-72h\"\n",
    "    elif dias < 4:\n",
    "        return \"72-96h\"\n",
    "    else:\n",
    "        return \"96h+\"\n",
    "\n",
    "# Crear columna de franja\n",
    "df[\"franja_trending\"] = df[\"video_age_days\"].apply(asignar_franja)\n",
    "\n",
    "# Filtrar solo vídeos mostpopular\n",
    "df_mp = df[df[\"mostpopular\"] == 1]\n",
    "\n",
    "# Contar y calcular porcentajes\n",
    "dist = df_mp[\"franja_trending\"].value_counts(normalize=True).sort_index() * 100\n",
    "\n",
    "print(\"Distribución de entrada a trending por franja (en %):\")"
   ]
  },
  {
   "cell_type": "code",
   "execution_count": 6,
   "metadata": {},
   "outputs": [
    {
     "data": {
      "text/plain": [
       "franja_trending\n",
       "0-24h     37.934363\n",
       "24-48h    28.281853\n",
       "48-72h    11.600562\n",
       "72-96h     7.283257\n",
       "96h+      14.899965\n",
       "Name: proportion, dtype: float64"
      ]
     },
     "execution_count": 6,
     "metadata": {},
     "output_type": "execute_result"
    }
   ],
   "source": [
    "dist"
   ]
  },
  {
   "cell_type": "code",
   "execution_count": 7,
   "metadata": {},
   "outputs": [
    {
     "name": "stdout",
     "output_type": "stream",
     "text": [
      "mostpopular              0          1\n",
      "franja_trending                      \n",
      "0-24h             0.005555  37.934363\n",
      "24-48h            0.000000  28.281853\n",
      "48-72h            0.000000  11.600562\n",
      "72-96h           99.983335   7.283257\n",
      "96h+              0.011110  14.899965\n"
     ]
    }
   ],
   "source": [
    "tabla = pd.crosstab(df[\"franja_trending\"], df[\"mostpopular\"], normalize=\"columns\") * 100\n",
    "print(tabla)"
   ]
  },
  {
   "cell_type": "markdown",
   "metadata": {},
   "source": [
    "La selección de la ventana de tres días como criterio de análisis se justifica en términos metodológicos. En primer lugar, se observa que los vídeos no incluidos en la sección *most popular* se concentran casi en su totalidad en la franja 72–96 horas tras su publicación. Por otra parte, los vídeos que sí alcanzan la categoría de *most popular* se distribuyen de forma más amplia a lo largo de las primeras 96 horas, pero mantienen una fracción representativa en la franja de tres días (≈8,7%). Este punto de intersección asegura la presencia de ambos grupos (trending y no trending) bajo una misma condición temporal, reduciendo sesgos asociados a la edad del vídeo. En consecuencia, el día tres constituye un horizonte razonable para evaluar el potencial de un vídeo de convertirse en trending, al equilibrar representatividad y homogeneidad en la muestra.\n",
    "\n",
    "La construcción del dataset se realizó a partir de dos estrategias complementarias de muestreo. Por un lado, se recopilaron de forma diaria, durante un periodo de tres meses, los vídeos incluidos en la sección *most popular* de YouTube España. Por otro lado, se capturaron de manera paralela, a lo largo de dos meses, muestras diarias de vídeos publicados en los últimos tres días con menos de 50.000 visualizaciones. Con el fin de asegurar la coherencia metodológica, se seleccionaron únicamente los vídeos correspondientes al tercer día de publicación dentro de este segundo conjunto. Esta decisión responde al interés de generar una imagen representativa de la dinámica de consumo audiovisual en un momento específico, evitando el sesgo de comparar vídeos en fases temporales distintas de su ciclo de vida. De este modo, el dataset resultante permite contrastar de manera homogénea el comportamiento de vídeos trending frente a no trending bajo condiciones comparables."
   ]
  },
  {
   "cell_type": "code",
   "execution_count": 8,
   "metadata": {},
   "outputs": [
    {
     "data": {
      "text/plain": [
       "franja_trending\n",
       "0-24h     14.708484\n",
       "24-48h    10.963331\n",
       "48-72h     4.496905\n",
       "72-96h    64.048575\n",
       "96h+       5.782706\n",
       "Name: proportion, dtype: float64"
      ]
     },
     "execution_count": 8,
     "metadata": {},
     "output_type": "execute_result"
    }
   ],
   "source": [
    "df[\"franja_trending\"].value_counts(normalize=True).sort_index() * 100"
   ]
  },
  {
   "cell_type": "code",
   "execution_count": 9,
   "metadata": {},
   "outputs": [],
   "source": [
    "df_1 = df[df[\"video_age_days\"] == 3]"
   ]
  },
  {
   "cell_type": "code",
   "execution_count": 10,
   "metadata": {},
   "outputs": [
    {
     "data": {
      "text/plain": [
       "mostpopular\n",
       "0    95.591906\n",
       "1     4.408094\n",
       "Name: proportion, dtype: float64"
      ]
     },
     "execution_count": 10,
     "metadata": {},
     "output_type": "execute_result"
    }
   ],
   "source": [
    "df_1['mostpopular'].value_counts(True)*100"
   ]
  },
  {
   "cell_type": "code",
   "execution_count": 11,
   "metadata": {},
   "outputs": [
    {
     "name": "stderr",
     "output_type": "stream",
     "text": [
      "/var/folders/l5/hswxnhp96655ttqlpbgkrrfw0000gn/T/ipykernel_1989/1564616768.py:1: SettingWithCopyWarning: \n",
      "A value is trying to be set on a copy of a slice from a DataFrame.\n",
      "Try using .loc[row_indexer,col_indexer] = value instead\n",
      "\n",
      "See the caveats in the documentation: https://pandas.pydata.org/pandas-docs/stable/user_guide/indexing.html#returning-a-view-versus-a-copy\n",
      "  df_1['published_at'] = pd.to_datetime(df_1['published_at'])\n",
      "/var/folders/l5/hswxnhp96655ttqlpbgkrrfw0000gn/T/ipykernel_1989/1564616768.py:4: SettingWithCopyWarning: \n",
      "A value is trying to be set on a copy of a slice from a DataFrame.\n",
      "Try using .loc[row_indexer,col_indexer] = value instead\n",
      "\n",
      "See the caveats in the documentation: https://pandas.pydata.org/pandas-docs/stable/user_guide/indexing.html#returning-a-view-versus-a-copy\n",
      "  df_1['published_date'] = df_1['published_at'].dt.date\n"
     ]
    },
    {
     "data": {
      "text/plain": [
       "<Figure size 1200x1000 with 0 Axes>"
      ]
     },
     "metadata": {},
     "output_type": "display_data"
    },
    {
     "data": {
      "image/png": "[encoded data removed]",
      "text/plain": [
       "<Figure size 640x480 with 1 Axes>"
      ]
     },
     "metadata": {},
     "output_type": "display_data"
    }
   ],
   "source": [
    "df_1['published_at'] = pd.to_datetime(df_1['published_at'])\n",
    "\n",
    "# Crear una columna de fecha solo (sin hora) para agrupar\n",
    "df_1['published_date'] = df_1['published_at'].dt.date\n",
    "tabla_frecuencia = df_1.groupby(['published_date', 'mostpopular']).size().unstack(fill_value=0)\n",
    "\n",
    "# Graficar barras apiladas\n",
    "plt.figure(figsize=(12,10))\n",
    "tabla_frecuencia.plot(kind='bar', stacked=True, color=['#4C72B0','#55A868'], edgecolor='black')\n",
    "plt.title('Número de videos publicados por fecha y categoría mostPopular')\n",
    "plt.xlabel('Fecha de publicación')\n",
    "plt.ylabel('Número de videos')\n",
    "plt.xticks(rotation=45)\n",
    "plt.tight_layout()"
   ]
  },
  {
   "cell_type": "code",
   "execution_count": 12,
   "metadata": {},
   "outputs": [
    {
     "data": {
      "image/png": "[encoded data removed]",
      "text/plain": [
       "<Figure size 800x500 with 1 Axes>"
      ]
     },
     "metadata": {},
     "output_type": "display_data"
    }
   ],
   "source": [
    "plt.figure(figsize=(8,5))\n",
    "sns.histplot(data=df_1, x=df_1['views'], hue=\"mostpopular\", bins=50, log_scale=True, \n",
    "                 palette=\"coolwarm\", alpha=0.6)\n",
    "plt.title(f\"Distribución de views: mostpopular vs. no-mostpopular\")\n",
    "plt.xlabel(\"views\")\n",
    "plt.ylabel(\"Frecuencia\")\n",
    "plt.legend(title=\"mostpopular\", labels=[\"No\", \"Sí\"])\n",
    "plt.show()"
   ]
  },
  {
   "cell_type": "markdown",
   "metadata": {},
   "source": [
    "## 1.2. Preparación y limpieza de Datos"
   ]
  },
  {
   "cell_type": "code",
   "execution_count": 13,
   "metadata": {},
   "outputs": [
    {
     "name": "stdout",
     "output_type": "stream",
     "text": [
      "<class 'pandas.core.frame.DataFrame'>\n",
      "Index: 18829 entries, 0 to 29320\n",
      "Data columns (total 36 columns):\n",
      " #   Column                  Non-Null Count  Dtype              \n",
      "---  ------                  --------------  -----              \n",
      " 0   video_id                18829 non-null  object             \n",
      " 1   title                   18829 non-null  object             \n",
      " 2   description             15125 non-null  object             \n",
      " 3   published_at            18829 non-null  datetime64[ns, UTC]\n",
      " 4   duration_minutes        18829 non-null  object             \n",
      " 5   definition              18829 non-null  object             \n",
      " 6   licensed_content        18829 non-null  object             \n",
      " 7   has_caption             18829 non-null  object             \n",
      " 8   category_id             18829 non-null  float64            \n",
      " 9   views                   18829 non-null  float64            \n",
      " 10  likes                   18829 non-null  float64            \n",
      " 11  comments                18829 non-null  float64            \n",
      " 12  tags                    10527 non-null  object             \n",
      " 13  tags_count              18829 non-null  float64            \n",
      " 14  views_per_day           18829 non-null  float64            \n",
      " 15  video_age_days          18829 non-null  float64            \n",
      " 16  engagement_rate         18822 non-null  float64            \n",
      " 17  efficiency              18822 non-null  float64            \n",
      " 18  engagement_subscribers  18822 non-null  float64            \n",
      " 19  subscriber_count        18829 non-null  object             \n",
      " 20  channel_id              18829 non-null  object             \n",
      " 21  channel_title           18829 non-null  object             \n",
      " 22  channel_description     17088 non-null  object             \n",
      " 23  channel_video_count     18828 non-null  float64            \n",
      " 24  channel_views           18828 non-null  object             \n",
      " 25  channel_created         18828 non-null  object             \n",
      " 26  channel_age_days        18828 non-null  float64            \n",
      " 27  frecuencia_videos       18821 non-null  float64            \n",
      " 28  views_rate_video        18821 non-null  float64            \n",
      " 29  mostpopular             18829 non-null  int64              \n",
      " 30  source_file             18829 non-null  object             \n",
      " 31  favorites               7 non-null      float64            \n",
      " 32  likes_per_view          7 non-null      float64            \n",
      " 33  comments_per_view       7 non-null      float64            \n",
      " 34  franja_trending         18829 non-null  object             \n",
      " 35  published_date          18829 non-null  object             \n",
      "dtypes: datetime64[ns, UTC](1), float64(17), int64(1), object(17)\n",
      "memory usage: 5.3+ MB\n"
     ]
    }
   ],
   "source": [
    "df_1.info()"
   ]
  },
  {
   "cell_type": "code",
   "execution_count": 14,
   "metadata": {},
   "outputs": [],
   "source": [
    "#Hay un valor en todos los datos raw de channel, que no fueron bien capturados. Eliminándo con `dropna` los valores existentes en la fila \"channel_creates\"\n",
    "# eliminamos estos valores faltantes\n",
    "df_1 = df_1.dropna(subset=[\"channel_created\"])"
   ]
  },
  {
   "cell_type": "code",
   "execution_count": 15,
   "metadata": {},
   "outputs": [],
   "source": [
    "# Los valores faltantes (7) en engagement_rate, efficiency, engagement_subscribers; y 18822 en favorites, likes_per_view y comments_per_view \n",
    "# se debe al gap en el uso de diferente código en los batch de captura de vídeos para los subsets \"mostpopular\" y \"vídeos <50000 views\"\n",
    "# Para resolver esta situacion eliminamos las columnas para volver a reconstruirlas posteriormente para todo el dataset en su totalidad \n",
    "df_1 = df_1.drop(\n",
    "    columns=[\"franja_trending\",\"channel_title_canonical\",\"comments_per_view\",\"likes_per_view\", \"favorites\",\"source_file\",\n",
    "             \"views_rate_video\",\"engagement_subscribers\",\"frecuencia_videos\",\"engagement_rate\",\n",
    "             \"efficiency\"],\n",
    "    errors=\"ignore\"\n",
    ")"
   ]
  },
  {
   "cell_type": "code",
   "execution_count": 16,
   "metadata": {},
   "outputs": [
    {
     "name": "stdout",
     "output_type": "stream",
     "text": [
      "<class 'pandas.core.frame.DataFrame'>\n",
      "Index: 18828 entries, 0 to 29320\n",
      "Data columns (total 26 columns):\n",
      " #   Column               Non-Null Count  Dtype              \n",
      "---  ------               --------------  -----              \n",
      " 0   video_id             18828 non-null  object             \n",
      " 1   title                18828 non-null  object             \n",
      " 2   description          15124 non-null  object             \n",
      " 3   published_at         18828 non-null  datetime64[ns, UTC]\n",
      " 4   duration_minutes     18828 non-null  object             \n",
      " 5   definition           18828 non-null  object             \n",
      " 6   licensed_content     18828 non-null  object             \n",
      " 7   has_caption          18828 non-null  object             \n",
      " 8   category_id          18828 non-null  float64            \n",
      " 9   views                18828 non-null  float64            \n",
      " 10  likes                18828 non-null  float64            \n",
      " 11  comments             18828 non-null  float64            \n",
      " 12  tags                 10527 non-null  object             \n",
      " 13  tags_count           18828 non-null  float64            \n",
      " 14  views_per_day        18828 non-null  float64            \n",
      " 15  video_age_days       18828 non-null  float64            \n",
      " 16  subscriber_count     18828 non-null  object             \n",
      " 17  channel_id           18828 non-null  object             \n",
      " 18  channel_title        18828 non-null  object             \n",
      " 19  channel_description  17087 non-null  object             \n",
      " 20  channel_video_count  18828 non-null  float64            \n",
      " 21  channel_views        18828 non-null  object             \n",
      " 22  channel_created      18828 non-null  object             \n",
      " 23  channel_age_days     18828 non-null  float64            \n",
      " 24  mostpopular          18828 non-null  int64              \n",
      " 25  published_date       18828 non-null  object             \n",
      "dtypes: datetime64[ns, UTC](1), float64(9), int64(1), object(15)\n",
      "memory usage: 3.9+ MB\n"
     ]
    }
   ],
   "source": [
    "df_1.info()"
   ]
  },
  {
   "cell_type": "markdown",
   "metadata": {},
   "source": [
    "### 1.2.1 Transformación de Datos\n",
    "\n",
    "- **Variables numéricas:** Se aplican transformaciones a variables `int64` para manejar valores extremos y mejorar la comparabilidad entre columnas.  \n",
    "\n",
    "- **Variables categóricas:** La columna `category_id` se convierte a tipo `category` para optimizar memoria, facilitar el análisis exploratorio y preparar la codificación para modelos de Machine Learning.  \n",
    "\n",
    "- **Variables binarias:** Columnas como `definition`, `has_caption` y `licensed_content` se transforman a `int64` dada su naturaleza booleana (0/1). Esto permite trabajar de manera más eficiente en el EDA y facilita su tratamiento en modelos de ML."
   ]
  },
  {
   "cell_type": "code",
   "execution_count": 17,
   "metadata": {},
   "outputs": [],
   "source": [
    "cols_int = [\"channel_views\", \"subscriber_count\",\"channel_age_days\",\"channel_video_count\", \"video_age_days\", \"views_per_day\",\"tags_count\",\"comments\", \"likes\",\"views\" ]  # las columnas que quieres\n",
    "df_1[cols_int] = df_1[cols_int].astype(\"int64\")\n",
    "df_1[\"duration_minutes\"] = pd.to_numeric(df_1[\"duration_minutes\"], errors=\"coerce\").astype(int)"
   ]
  },
  {
   "cell_type": "code",
   "execution_count": 18,
   "metadata": {},
   "outputs": [],
   "source": [
    "df_1['category_id']=df_1['category_id'].astype('category')\n",
    "df_1[\"licensed_content\"] = (df_1[\"licensed_content\"].astype(str).str.strip().str.lower().map({\"true\": 1, \"false\": 0}).astype(\"Int64\"))          # Dado que me da problemas hago una limpieza simpleenteros con NA si algo no encaja\n",
    "df_1[\"definition\"] = df_1[\"definition\"].map({\"sd\": 0, \"hd\": 1}).astype(int)\n",
    "df_1[\"has_caption\"] = (df_1[\"has_caption\"].astype(str).str.strip().str.lower().map({\"true\": 1, \"false\": 0}).astype(\"Int64\"))  "
   ]
  },
  {
   "cell_type": "code",
   "execution_count": 19,
   "metadata": {},
   "outputs": [],
   "source": [
    "df_1=df_1.copy()"
   ]
  },
  {
   "cell_type": "code",
   "execution_count": 20,
   "metadata": {},
   "outputs": [],
   "source": [
    "#Reconstruirmos las variables derivadas\n",
    "\n",
    "def division_segura(numerador, denominador):\n",
    "    return np.where(denominador > 0, numerador / denominador, 0)\n",
    "\n",
    "df_1[\"engagement_rate\"] = division_segura(\n",
    "    df_1[\"likes\"] + df_1[\"comments\"], \n",
    "    df_1[\"views\"]\n",
    ")\n",
    "\n",
    "df_1[\"efficiency\"] = division_segura(\n",
    "    df_1[\"likes\"] + df_1[\"comments\"], \n",
    "    df_1[\"channel_video_count\"]\n",
    ")\n",
    "\n",
    "df_1[\"engagement_subscribers\"] = division_segura(\n",
    "    df_1[\"likes\"] + df_1[\"comments\"], \n",
    "    df_1[\"subscriber_count\"]\n",
    ")\n",
    "\n",
    "df_1[\"frecuencia_videos\"] = division_segura(\n",
    "    df_1[\"channel_video_count\"], \n",
    "    df_1[\"channel_age_days\"]\n",
    ")\n",
    "\n",
    "df_1[\"views_rate_video\"] = division_segura(\n",
    "    df_1[\"channel_views\"], \n",
    "    df_1[\"channel_video_count\"]\n",
    ")\n",
    "\n",
    "df_1[\"likes_per_view\"] = division_segura(\n",
    "    df_1[\"likes\"], \n",
    "    df_1[\"views\"]\n",
    ")\n",
    "\n",
    "df_1[\"comments_per_view\"] = division_segura(\n",
    "    df_1[\"comments\"], \n",
    "    df_1[\"views\"]\n",
    ")"
   ]
  },
  {
   "cell_type": "markdown",
   "metadata": {},
   "source": [
    "### 1.2.2 Filtración de duplicados\n",
    "\n",
    "- Empleamos `keep=False` con el objetivo de obtener el último valor registrado en nuestro dataset, dado que muchos de los vídeos **most popular** aparecen en la lista durante varios días.  \n",
    "- Con el objetivo de capturar aquellos valores que reflejan **mejor performance**, decidimos filtrar los datos siguiendo la lógica mencionada anteriormente."
   ]
  },
  {
   "cell_type": "code",
   "execution_count": 21,
   "metadata": {},
   "outputs": [],
   "source": [
    "duplicados = df_1[df_1[\"video_id\"].duplicated(keep=False)].sort_values(\"published_at\")\n",
    "df_sin_repeticion = df_1.drop_duplicates(subset=\"video_id\", keep=\"last\")"
   ]
  },
  {
   "cell_type": "code",
   "execution_count": 22,
   "metadata": {},
   "outputs": [
    {
     "name": "stdout",
     "output_type": "stream",
     "text": [
      "<class 'pandas.core.frame.DataFrame'>\n",
      "RangeIndex: 18828 entries, 0 to 18827\n",
      "Data columns (total 33 columns):\n",
      " #   Column                  Non-Null Count  Dtype              \n",
      "---  ------                  --------------  -----              \n",
      " 0   video_id                18828 non-null  object             \n",
      " 1   title                   18828 non-null  object             \n",
      " 2   description             15124 non-null  object             \n",
      " 3   published_at            18828 non-null  datetime64[ns, UTC]\n",
      " 4   duration_minutes        18828 non-null  int64              \n",
      " 5   definition              18828 non-null  int64              \n",
      " 6   licensed_content        18828 non-null  Int64              \n",
      " 7   has_caption             18828 non-null  Int64              \n",
      " 8   category_id             18828 non-null  category           \n",
      " 9   views                   18828 non-null  int64              \n",
      " 10  likes                   18828 non-null  int64              \n",
      " 11  comments                18828 non-null  int64              \n",
      " 12  tags                    10527 non-null  object             \n",
      " 13  tags_count              18828 non-null  int64              \n",
      " 14  views_per_day           18828 non-null  int64              \n",
      " 15  video_age_days          18828 non-null  int64              \n",
      " 16  subscriber_count        18828 non-null  int64              \n",
      " 17  channel_id              18828 non-null  object             \n",
      " 18  channel_title           18828 non-null  object             \n",
      " 19  channel_description     17087 non-null  object             \n",
      " 20  channel_video_count     18828 non-null  int64              \n",
      " 21  channel_views           18828 non-null  int64              \n",
      " 22  channel_created         18828 non-null  object             \n",
      " 23  channel_age_days        18828 non-null  int64              \n",
      " 24  mostpopular             18828 non-null  int64              \n",
      " 25  published_date          18828 non-null  object             \n",
      " 26  engagement_rate         18828 non-null  float64            \n",
      " 27  efficiency              18828 non-null  float64            \n",
      " 28  engagement_subscribers  18828 non-null  float64            \n",
      " 29  frecuencia_videos       18828 non-null  float64            \n",
      " 30  views_rate_video        18828 non-null  float64            \n",
      " 31  likes_per_view          18828 non-null  float64            \n",
      " 32  comments_per_view       18828 non-null  float64            \n",
      "dtypes: Int64(2), category(1), datetime64[ns, UTC](1), float64(7), int64(13), object(9)\n",
      "memory usage: 4.7+ MB\n"
     ]
    }
   ],
   "source": [
    "#Reseteamos el índice\n",
    "df_1 = df_1.reset_index(drop=True)\n",
    "df_1.info()"
   ]
  },
  {
   "cell_type": "code",
   "execution_count": 23,
   "metadata": {},
   "outputs": [
    {
     "name": "stdout",
     "output_type": "stream",
     "text": [
      "<class 'pandas.core.frame.DataFrame'>\n",
      "RangeIndex: 18828 entries, 0 to 18827\n",
      "Data columns (total 33 columns):\n",
      " #   Column                  Non-Null Count  Dtype              \n",
      "---  ------                  --------------  -----              \n",
      " 0   video_id                18828 non-null  object             \n",
      " 1   title                   18828 non-null  object             \n",
      " 2   description             15124 non-null  object             \n",
      " 3   published_at            18828 non-null  datetime64[ns, UTC]\n",
      " 4   duration_minutes        18828 non-null  int64              \n",
      " 5   definition              18828 non-null  int64              \n",
      " 6   licensed_content        18828 non-null  Int64              \n",
      " 7   has_caption             18828 non-null  Int64              \n",
      " 8   category_id             18828 non-null  category           \n",
      " 9   views                   18828 non-null  int64              \n",
      " 10  likes                   18828 non-null  int64              \n",
      " 11  comments                18828 non-null  int64              \n",
      " 12  tags                    10527 non-null  object             \n",
      " 13  tags_count              18828 non-null  int64              \n",
      " 14  views_per_day           18828 non-null  int64              \n",
      " 15  video_age_days          18828 non-null  int64              \n",
      " 16  subscriber_count        18828 non-null  int64              \n",
      " 17  channel_id              18828 non-null  object             \n",
      " 18  channel_title           18828 non-null  object             \n",
      " 19  channel_description     17087 non-null  object             \n",
      " 20  channel_video_count     18828 non-null  int64              \n",
      " 21  channel_views           18828 non-null  int64              \n",
      " 22  channel_created         18828 non-null  object             \n",
      " 23  channel_age_days        18828 non-null  int64              \n",
      " 24  mostpopular             18828 non-null  int64              \n",
      " 25  published_date          18828 non-null  object             \n",
      " 26  engagement_rate         18828 non-null  float64            \n",
      " 27  efficiency              18828 non-null  float64            \n",
      " 28  engagement_subscribers  18828 non-null  float64            \n",
      " 29  frecuencia_videos       18828 non-null  float64            \n",
      " 30  views_rate_video        18828 non-null  float64            \n",
      " 31  likes_per_view          18828 non-null  float64            \n",
      " 32  comments_per_view       18828 non-null  float64            \n",
      "dtypes: Int64(2), category(1), datetime64[ns, UTC](1), float64(7), int64(13), object(9)\n",
      "memory usage: 4.7+ MB\n"
     ]
    }
   ],
   "source": [
    "df_1.info()"
   ]
  },
  {
   "cell_type": "markdown",
   "metadata": {},
   "source": [
    "### 1.2.3 Verificación de unicidad en los valores del dataset"
   ]
  },
  {
   "cell_type": "code",
   "execution_count": 24,
   "metadata": {},
   "outputs": [
    {
     "name": "stdout",
     "output_type": "stream",
     "text": [
      "Filas totales: 18828\n",
      "Video_id únicos: 17825\n",
      "¿Todos únicos?: False\n"
     ]
    }
   ],
   "source": [
    "df_1[\"video_id\"] = df_1[\"video_id\"].astype(str).str.strip()\n",
    "\n",
    "print(\"Filas totales:\", len(df_1))\n",
    "print(\"Video_id únicos:\", df_1[\"video_id\"].nunique())\n",
    "print(\"¿Todos únicos?:\", df_1[\"video_id\"].nunique() == len(df_1))"
   ]
  },
  {
   "cell_type": "markdown",
   "metadata": {},
   "source": [
    "### 1.2.4 Selección y Depuración de Variables No Relevantes\n",
    "\n",
    "- Se eliminaron las columnas `\"franja_trending\"`, `\"channel_title_canonical\"` y `\"source_file\"` ya que son variables utilizadas únicamente para verificación de la funcionalidad del dataset.  \n",
    "- La columna `\"favorites\"` se depuró porque es una categoría vacía; el API de YouTube no genera información al respecto.  \n",
    "- Las columnas relacionadas con fechas (`\"published_date\"`, `\"channel_created\"`, `\"published_at\"`) también fueron filtradas:  \n",
    "  - `\"published_at\"`, que indica cuándo se publicó el vídeo, se eliminó porque el objetivo de esta investigación es analizar la performance de los vídeos desde una lógica **sincrónica**, es decir, una fotografía fija en el tiempo, por lo que esta información pierde relevancia.  \n",
    "  - `\"channel_created\"` se transformó en la diferencia en días desde la creación del canal hasta la publicación y captura del vídeo.  \n",
    "  - `\"published_date\"` corresponde a una transformación interna realizada para la verificación del dataset.  "
   ]
  },
  {
   "cell_type": "code",
   "execution_count": 25,
   "metadata": {},
   "outputs": [],
   "source": [
    "df_1 = df_1.drop(columns=[\"franja_trending\",\"channel_title_canonical\",\"favorites\",\"source_file\",\n",
    "                          \"published_at\",\"channel_created\",\"published_at\"],\n",
    "    errors=\"ignore\")"
   ]
  },
  {
   "cell_type": "markdown",
   "metadata": {},
   "source": [
    "## 1.3 Creación de embeddings\n",
    "\n",
    "- EXPLICACION DEL PROCESO COMO TAL"
   ]
  },
  {
   "cell_type": "code",
   "execution_count": 26,
   "metadata": {},
   "outputs": [
    {
     "data": {
      "application/vnd.jupyter.widget-view+json": {
       "model_id": "9e7b893ec91a4bbea8ffbee050e3d597",
       "version_major": 2,
       "version_minor": 0
      },
      "text/plain": [
       "Batches:   0%|          | 0/295 [00:00<?, ?it/s]"
      ]
     },
     "metadata": {},
     "output_type": "display_data"
    },
    {
     "data": {
      "application/vnd.jupyter.widget-view+json": {
       "model_id": "4a87b11412424d528a4a452014f408b6",
       "version_major": 2,
       "version_minor": 0
      },
      "text/plain": [
       "Batches:   0%|          | 0/164 [00:00<?, ?it/s]"
      ]
     },
     "metadata": {},
     "output_type": "display_data"
    }
   ],
   "source": [
    "# ========= 0) Imports y utilidades =========\n",
    "\n",
    "def l2_normalize(X, eps=1e-12):\n",
    "    X = np.asarray(X)\n",
    "    if X.ndim == 1:\n",
    "        n = np.linalg.norm(X)\n",
    "        return X / (n + eps)\n",
    "    n = np.linalg.norm(X, axis=1, keepdims=True)\n",
    "    return X / (n + eps)\n",
    "\n",
    "# Convierte una Serie de arrays en matriz 2D (útil luego para PCA/Modelos)\n",
    "def stack_array_col(X):\n",
    "    return np.vstack(X.iloc[:, 0].to_numpy())\n",
    "\n",
    "\n",
    "# ========= 1) Textos (limpieza ligera y etiquetas) =========\n",
    "# asumimos que tu DF se llama df_video y tiene estas columnas\n",
    "# [\"video_id\",\"channel_id\",\"title\",\"description\",\"tags\",\"channel_title\",\"channel_description\"]\n",
    "\n",
    "df_1[\"text_video\"] = (\n",
    "    \"[TITLE] \" + df_1[\"title\"].fillna(\"\") + \" \"\n",
    "    \"[DESC] \"  + df_1[\"description\"].fillna(\"\") + \" \"\n",
    "    \"[TAGS] \"  + df_1[\"tags\"].fillna(\"\")\n",
    ").str.replace(r\"\\s+\", \" \", regex=True).str.strip()\n",
    "\n",
    "# texto de canal: calcular UNA vez por canal\n",
    "ch_base = (df_1[[\"channel_id\",\"channel_title\",\"channel_description\"]]\n",
    "           .drop_duplicates(\"channel_id\")\n",
    "           .copy())\n",
    "ch_base[\"text_channel\"] = (\n",
    "    \"[CHANNEL] \" + ch_base[\"channel_title\"].fillna(\"\") + \" \"\n",
    "    \"[DESC] \"    + ch_base[\"channel_description\"].fillna(\"\")\n",
    ").str.replace(r\"\\s+\", \" \", regex=True).str.strip()\n",
    "\n",
    "\n",
    "# ========= 2) Cargar modelo multilingüe =========\n",
    "model_name = \"sentence-transformers/paraphrase-multilingual-MiniLM-L12-v2\"  # 384 dims\n",
    "model = SentenceTransformer(model_name)\n",
    "\n",
    "\n",
    "# ========= 3) Embeddings (vídeo y canal-raw) =========\n",
    "# Vídeo\n",
    "v_emb = model.encode(\n",
    "    df_1[\"text_video\"].tolist(),\n",
    "    batch_size=64, convert_to_numpy=True, show_progress_bar=True\n",
    ")\n",
    "v_emb = l2_normalize(v_emb)\n",
    "\n",
    "# Canal (texto propio del canal, mapeado a cada channel_id)\n",
    "c_raw = model.encode(\n",
    "    ch_base[\"text_channel\"].tolist(),\n",
    "    batch_size=64, convert_to_numpy=True, show_progress_bar=True\n",
    ")\n",
    "c_raw = l2_normalize(c_raw)\n",
    "c_raw_map = dict(zip(ch_base[\"channel_id\"].tolist(), list(c_raw)))\n",
    "\n",
    "\n",
    "# ========= 4) Embedding de canal agregado (media simple de sus vídeos) =========\n",
    "# (sin ponderar: tu dataset es ~3 días de antigüedad)\n",
    "means = {}\n",
    "tmp = pd.DataFrame({\"channel_id\": df_1[\"channel_id\"].values,\n",
    "                    \"row_idx\": np.arange(len(df_1))})\n",
    "for ch_id, idxs in tmp.groupby(\"channel_id\")[\"row_idx\"]:\n",
    "    m = v_emb[idxs.to_numpy()].mean(axis=0)\n",
    "    means[ch_id] = l2_normalize(m)\n",
    "\n",
    "# Mezcla canal final = 50% texto canal + 50% media de vídeos\n",
    "beta = 0.5\n",
    "c_final_map = {ch: l2_normalize(beta * c_raw_map[ch] + (1 - beta) * means[ch])\n",
    "               for ch in means.keys()}\n",
    "\n",
    "\n",
    "# ========= 5) Embedding conjunto por vídeo (vídeo + canal_final) =========\n",
    "alpha = 0.7  # 70% vídeo, 30% contexto de canal\n",
    "c_final_mat = np.vstack(df_1[\"channel_id\"].map(c_final_map).to_numpy())\n",
    "joint_emb = l2_normalize(alpha * v_emb + (1 - alpha) * c_final_mat)\n",
    "\n",
    "# Guardar en el DataFrame (como arrays por fila) para no recomputar\n",
    "df_1[\"embedding_video\"]         = list(v_emb)\n",
    "df_1[\"embedding_channel_raw\"]   = df_1[\"channel_id\"].map(c_raw_map)\n",
    "df_1[\"embedding_channel_agg\"]   = df_1[\"channel_id\"].map(means)\n",
    "df_1[\"embedding_channel_final\"] = df_1[\"channel_id\"].map(c_final_map)\n",
    "df_1[\"embedding_joint\"]         = list(joint_emb)\n",
    "\n",
    "# (opcional) persistir\n",
    "df_1.to_parquet(\"/Users/danielmunoz/Documents/EDUCACION/DATA_ANALIST/CURSOS/TFM/DATA/PROCESSED/df_TFMYouTube_embeddings_DEFINITIVO.parquet\", index=False)"
   ]
  },
  {
   "cell_type": "markdown",
   "metadata": {},
   "source": [
    "# 1.4 Creación del dataset con embeddings"
   ]
  },
  {
   "cell_type": "code",
   "execution_count": 28,
   "metadata": {},
   "outputs": [],
   "source": [
    "# df_1.to_parquet(\n",
    "#       \"/Users/danielmunoz/Documents/EDUCACION/DATA_ANALIST/CURSOS/TFM/DATA/PROCESSED/df_YouTube_2025TFM_DEFINITIVO.parquet\",\n",
    "#      index=False)"
   ]
  }
 ],
 "metadata": {
  "kernelspec": {
   "display_name": "yt-tfm-clustering",
   "language": "python",
   "name": "python3"
  },
  "language_info": {
   "codemirror_mode": {
    "name": "ipython",
    "version": 3
   },
   "file_extension": ".py",
   "mimetype": "text/x-python",
   "name": "python",
   "nbconvert_exporter": "python",
   "pygments_lexer": "ipython3",
   "version": "3.10.18"
  }
 },
 "nbformat": 4,
 "nbformat_minor": 2
}
