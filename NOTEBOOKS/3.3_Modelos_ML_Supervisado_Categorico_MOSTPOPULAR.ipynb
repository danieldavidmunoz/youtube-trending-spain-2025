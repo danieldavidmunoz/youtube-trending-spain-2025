{
 "cells": [
  {
   "cell_type": "markdown",
   "metadata": {},
   "source": [
    "# 3.3 Modelos ML Supervisado Categórico MostPopular\n",
    "\n",
    "3.3.1 Preparación del dataset\n",
    "\n",
    "3.3.2 Regresión Logística\n",
    "\n",
    "3.3.3 XGBOOST\n",
    "\n",
    "Con la aplicación de este modelo se busca testar la existencia de un leakage estructural en la diferenciación entre los vídeos mostpopular y aquellos que no lo son.\n",
    "Dado que al evaluar distintas combinaciones categóricas los modelos alcanzaron un AUC superior al 95%, entendemos que el algoritmo está capturando algún tipo de metadato o huella estructural asignada por la propia API de YouTube durante la extracción de los vídeos. Esto se explica porque una parte del conjunto de datos fue obtenida a través del endpoint videos.list(chart='mostPopular'), lo cual introduce información implícita sobre el origen del vídeo en la variable objetivo.\n",
    "\n",
    "Para comprobar esta hipótesis, se seleccionaron cuatro variables exógenas —duration_minutes, has_caption, licensed_content y category_id—, todas ellas definidas en el momento de la publicación del vídeo, no dependientes del rendimiento posterior.\n",
    "A partir de estas variables se probaron dos algoritmos supervisados, Regresión Logística y XGBoost, con el objetivo de evaluar su capacidad predictiva.\n",
    "En caso de obtener un rendimiento superior al 90% en métricas como el AUC, se confirma la presencia de leakage estructural, es decir, que el modelo aprende a identificar la procedencia del vídeo dentro del dataset y no su verdadera popularidad.\n",
    "\n",
    "En consecuencia, la variable mostpopular, tal como está definida en este contexto, no sería adecuada como objetivo de modelización predictiva, ya que su valor está determinado por el propio proceso de recolección de datos y no por una relación causal derivada de las características del vídeo."
   ]
  },
  {
   "cell_type": "code",
   "execution_count": 1,
   "metadata": {},
   "outputs": [],
   "source": [
    "import pandas as pd\n",
    "from sklearn.model_selection import train_test_split\n",
    "from sklearn.pipeline import Pipeline\n",
    "from sklearn.compose import ColumnTransformer\n",
    "from sklearn.preprocessing import OneHotEncoder, FunctionTransformer\n",
    "from sklearn.impute import SimpleImputer\n",
    "from sklearn.linear_model import LogisticRegression\n",
    "from sklearn.metrics import classification_report, roc_auc_score, roc_curve, auc\n",
    "from xgboost import XGBClassifier\n"
   ]
  },
  {
   "cell_type": "code",
   "execution_count": 2,
   "metadata": {},
   "outputs": [],
   "source": [
    "def predict_and_get_auc(model, X_train, X_test, y_train, y_test):\n",
    "    # Predicciones en probas\n",
    "    y_train_prob = model.predict_proba(X_train)[:, 1]\n",
    "    y_test_prob  = model.predict_proba(X_test)[:, 1]\n",
    "\n",
    "    # AUC train\n",
    "    fpr, tpr, _ = roc_curve(y_train, y_train_prob)\n",
    "    print(\"AUC train =\", round(auc(fpr, tpr), 2))\n",
    "\n",
    "    # AUC test\n",
    "    fpr, tpr, _ = roc_curve(y_test, y_test_prob)\n",
    "    print(\"AUC test  =\", round(auc(fpr, tpr), 2))"
   ]
  },
  {
   "cell_type": "markdown",
   "metadata": {},
   "source": [
    "## 3.3.1 Preaparación del dataset"
   ]
  },
  {
   "cell_type": "code",
   "execution_count": 3,
   "metadata": {},
   "outputs": [],
   "source": [
    "\n",
    "df_1=pd.read_parquet(\"../DATA/PROCESSED/df_TFMYouTube_embeddings_UMAP5_CLUSTERS_UMAP2.parquet\")\n",
    "\n",
    "cols= ['category_id','duration_minutes',\"licensed_content\",\"mostpopular\",\"has_caption\",]\n",
    "df_1=df_1[cols]\n",
    "\n"
   ]
  },
  {
   "cell_type": "code",
   "execution_count": 4,
   "metadata": {},
   "outputs": [],
   "source": [
    "features = [\"duration_minutes\", \"has_caption\", \"licensed_content\", \"category_id\"]\n",
    "target = \"mostpopular\"  # cambia por el nombre de tu variable objetivo\n",
    "\n",
    "X = df_1[features]\n",
    "y = df_1[target]\n",
    "\n",
    "# -----------------------------\n",
    "# Split de entrenamiento / test\n",
    "# -----------------------------\n",
    "X_train, X_test, y_train, y_test = train_test_split(\n",
    "    X, y,\n",
    "    test_size=0.2,\n",
    "    stratify=y,          # mantiene proporción de clases\n",
    "    random_state=42\n",
    ")\n"
   ]
  },
  {
   "cell_type": "code",
   "execution_count": null,
   "metadata": {},
   "outputs": [
    {
     "name": "stdout",
     "output_type": "stream",
     "text": [
      "AUC train = 0.93\n",
      "AUC test  = 0.92\n"
     ]
    }
   ],
   "source": [
    "\n",
    "\n",
    "# --- columnas ---\n",
    "num_cols = [\"duration_minutes\",\"has_caption\", \"licensed_content\"]\n",
    "cat_cols = [\"category_id\"]\n",
    "\n",
    "# --- pipes por bloque ---\n",
    "num_pipe = Pipeline([\n",
    "    (\"imp\", SimpleImputer(strategy=\"median\")),\n",
    "])  # sin escalar para mantenerlo simple\n",
    "\n",
    "# Aseguramos string antes del OHE y rellenamos NaN\n",
    "to_str = FunctionTransformer(lambda X: X.astype(str))\n",
    "cat_pipe = Pipeline([\n",
    "    (\"imp\", SimpleImputer(strategy=\"most_frequent\")),\n",
    "    (\"to_str\", to_str),\n",
    "    (\"ohe\", OneHotEncoder(handle_unknown=\"ignore\"))  # simple y robusto\n",
    "])\n",
    "\n",
    "# --- preprocesador ---\n",
    "preprocessor = ColumnTransformer(\n",
    "    transformers=[\n",
    "        (\"num\", num_pipe, num_cols),\n",
    "        (\"cat\", cat_pipe, cat_cols),\n",
    "    ],\n",
    "    remainder=\"drop\"\n",
    ")\n"
   ]
  },
  {
   "cell_type": "markdown",
   "metadata": {},
   "source": [
    "## 3.3.2 Regresión Logística"
   ]
  },
  {
   "cell_type": "code",
   "execution_count": null,
   "metadata": {},
   "outputs": [],
   "source": [
    "\n",
    "# --- modelo sencillo (compatible con entrada dispersa/densa) ---\n",
    "clf = LogisticRegression(\n",
    "    solver=\"liblinear\",  # soporta sparse y binario\n",
    "    max_iter=1000,\n",
    "    random_state=42\n",
    ")\n",
    "\n",
    "pipeline_simple = Pipeline([\n",
    "    (\"preprocessing\", preprocessor),\n",
    "    (\"model\", clf),\n",
    "])\n",
    "\n",
    "pipeline_simple.fit(X_train, y_train)\n",
    "y_pred = pipeline_simple.predict(X_test)\n",
    "y_prob = pipeline_simple.predict_proba(X_test)[:, 1]\n",
    "predict_and_get_auc(pipeline_simple, X_train, X_test, y_train, y_test)"
   ]
  },
  {
   "cell_type": "markdown",
   "metadata": {},
   "source": [
    "## 3.3.3 XGBOOST"
   ]
  },
  {
   "cell_type": "code",
   "execution_count": 6,
   "metadata": {},
   "outputs": [
    {
     "name": "stdout",
     "output_type": "stream",
     "text": [
      "AUC train = 0.98\n",
      "AUC test  = 0.95\n"
     ]
    }
   ],
   "source": [
    "clf = XGBClassifier(\n",
    "    objective=\"binary:logistic\",\n",
    "    eval_metric=\"auc\",\n",
    "    n_estimators=400,\n",
    "    learning_rate=0.05,\n",
    "    max_depth=6,\n",
    "    subsample=0.8,\n",
    "    colsample_bytree=0.8,\n",
    "    n_jobs=-1,\n",
    "    random_state=42\n",
    ")\n",
    "\n",
    "pipeline_simple = Pipeline([(\"preprocessing\", preprocessor), (\"model\", clf)])\n",
    "pipeline_simple.fit(X_train, y_train)\n",
    "\n",
    "y_pred = pipeline_simple.predict(X_test)\n",
    "predict_and_get_auc(pipeline_simple, X_train, X_test, y_train, y_test)"
   ]
  }
 ],
 "metadata": {
  "kernelspec": {
   "display_name": "yt-ml-spvd",
   "language": "python",
   "name": "python3"
  },
  "language_info": {
   "codemirror_mode": {
    "name": "ipython",
    "version": 3
   },
   "file_extension": ".py",
   "mimetype": "text/x-python",
   "name": "python",
   "nbconvert_exporter": "python",
   "pygments_lexer": "ipython3",
   "version": "3.10.18"
  }
 },
 "nbformat": 4,
 "nbformat_minor": 2
}
